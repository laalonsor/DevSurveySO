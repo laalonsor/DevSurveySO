{
 "cells": [
  {
   "cell_type": "markdown",
   "metadata": {},
   "source": [
    "## Project: Identify patterns in Developers' job satisfaction\n",
    "\n",
    "### Busines Understanding\n",
    "\n",
    "In this project you will identify different variables that are related to the job satisfaction reported within the developers survey of Stack Overflow. Some of these variables are related to the working habits of the developers (such as the preferred time to start working), the influence of the friends' profile of the developers and the relevance of having difficulty communicating ideas. I will also explore the relation of these variables with the the salary of the developers.\n",
    "\n",
    "This project is handling a dataset containing quite sensitive information (e.g. compensation level, communication skills, working habits of each individual) and as such it is important to keep in mind that all these responses are \"declared\" and not \"measured\", which intrinsically may drive to conclusions containing a bias on how each developer wants to be perceived / judged for those using the information.\n",
    "\n",
    "Having said this, it is a subject of interest to explore the relation of job satisfaction with a capability as basic as \"communication skills\", which in any field, not only IT, is a basic characteristic of those who are able to progress. It is also interesting to analize the job satisfaction whose close social nucleus is influenced by other developers, engineers or scientists, as a way to understand if the job satisfaction is reinforced by the social interaction outside work.\n",
    "\n",
    "The analysis is complemented with other variables that measure how the job satisfaction is influenced by the technical decisions that are made (\"My opininons seem to count\"). This analysis will be based in the relation between job satisfaction and the fields: InfluenceHardware, InfluenceServers, InfluenceTechStack, InfluenceDeptTech, InfluenceVizTools, InfluenceDatabase, InfluenceCloud, InfluenceConsultants and InfluenceRecruitment.\n",
    "\n",
    "To note, the conclusions are demonstrated through analytics and charts which will support the conclusions. Datasets are included in the Jupiter repository and a description of the project is included in the \"readme\" file.\n"
   ]
  },
  {
   "cell_type": "code",
   "execution_count": 1,
   "metadata": {},
   "outputs": [],
   "source": [
    "import numpy as np\n",
    "import pandas as pd\n",
    "import matplotlib.pyplot as plt\n",
    "from sklearn.model_selection import train_test_split\n",
    "from sklearn.linear_model import LinearRegression\n",
    "from sklearn import preprocessing\n",
    "from sklearn.metrics import r2_score, mean_squared_error\n",
    "from mpl_toolkits.mplot3d import Axes3D\n",
    "import seaborn as sns\n",
    "%matplotlib inline"
   ]
  },
  {
   "cell_type": "markdown",
   "metadata": {},
   "source": [
    "### Data Understanding\n",
    "\n",
    "Explore the content of the data set to get an idea of how to handle the data, including its features and the proportion of null values included in those columns that are in ou interest\n"
   ]
  },
  {
   "cell_type": "code",
   "execution_count": 2,
   "metadata": {},
   "outputs": [
    {
     "data": {
      "text/html": [
       "<div>\n",
       "<style scoped>\n",
       "    .dataframe tbody tr th:only-of-type {\n",
       "        vertical-align: middle;\n",
       "    }\n",
       "\n",
       "    .dataframe tbody tr th {\n",
       "        vertical-align: top;\n",
       "    }\n",
       "\n",
       "    .dataframe thead th {\n",
       "        text-align: right;\n",
       "    }\n",
       "</style>\n",
       "<table border=\"1\" class=\"dataframe\">\n",
       "  <thead>\n",
       "    <tr style=\"text-align: right;\">\n",
       "      <th></th>\n",
       "      <th>Respondent</th>\n",
       "      <th>Professional</th>\n",
       "      <th>ProgramHobby</th>\n",
       "      <th>Country</th>\n",
       "      <th>University</th>\n",
       "      <th>EmploymentStatus</th>\n",
       "      <th>FormalEducation</th>\n",
       "      <th>MajorUndergrad</th>\n",
       "      <th>HomeRemote</th>\n",
       "      <th>CompanySize</th>\n",
       "      <th>...</th>\n",
       "      <th>StackOverflowMakeMoney</th>\n",
       "      <th>Gender</th>\n",
       "      <th>HighestEducationParents</th>\n",
       "      <th>Race</th>\n",
       "      <th>SurveyLong</th>\n",
       "      <th>QuestionsInteresting</th>\n",
       "      <th>QuestionsConfusing</th>\n",
       "      <th>InterestedAnswers</th>\n",
       "      <th>Salary</th>\n",
       "      <th>ExpectedSalary</th>\n",
       "    </tr>\n",
       "  </thead>\n",
       "  <tbody>\n",
       "    <tr>\n",
       "      <th>0</th>\n",
       "      <td>1</td>\n",
       "      <td>Student</td>\n",
       "      <td>Yes, both</td>\n",
       "      <td>United States</td>\n",
       "      <td>No</td>\n",
       "      <td>Not employed, and not looking for work</td>\n",
       "      <td>Secondary school</td>\n",
       "      <td>NaN</td>\n",
       "      <td>NaN</td>\n",
       "      <td>NaN</td>\n",
       "      <td>...</td>\n",
       "      <td>Strongly disagree</td>\n",
       "      <td>Male</td>\n",
       "      <td>High school</td>\n",
       "      <td>White or of European descent</td>\n",
       "      <td>Strongly disagree</td>\n",
       "      <td>Strongly agree</td>\n",
       "      <td>Disagree</td>\n",
       "      <td>Strongly agree</td>\n",
       "      <td>NaN</td>\n",
       "      <td>NaN</td>\n",
       "    </tr>\n",
       "    <tr>\n",
       "      <th>1</th>\n",
       "      <td>2</td>\n",
       "      <td>Student</td>\n",
       "      <td>Yes, both</td>\n",
       "      <td>United Kingdom</td>\n",
       "      <td>Yes, full-time</td>\n",
       "      <td>Employed part-time</td>\n",
       "      <td>Some college/university study without earning ...</td>\n",
       "      <td>Computer science or software engineering</td>\n",
       "      <td>More than half, but not all, the time</td>\n",
       "      <td>20 to 99 employees</td>\n",
       "      <td>...</td>\n",
       "      <td>Strongly disagree</td>\n",
       "      <td>Male</td>\n",
       "      <td>A master's degree</td>\n",
       "      <td>White or of European descent</td>\n",
       "      <td>Somewhat agree</td>\n",
       "      <td>Somewhat agree</td>\n",
       "      <td>Disagree</td>\n",
       "      <td>Strongly agree</td>\n",
       "      <td>NaN</td>\n",
       "      <td>37500.0</td>\n",
       "    </tr>\n",
       "    <tr>\n",
       "      <th>2</th>\n",
       "      <td>3</td>\n",
       "      <td>Professional developer</td>\n",
       "      <td>Yes, both</td>\n",
       "      <td>United Kingdom</td>\n",
       "      <td>No</td>\n",
       "      <td>Employed full-time</td>\n",
       "      <td>Bachelor's degree</td>\n",
       "      <td>Computer science or software engineering</td>\n",
       "      <td>Less than half the time, but at least one day ...</td>\n",
       "      <td>10,000 or more employees</td>\n",
       "      <td>...</td>\n",
       "      <td>Disagree</td>\n",
       "      <td>Male</td>\n",
       "      <td>A professional degree</td>\n",
       "      <td>White or of European descent</td>\n",
       "      <td>Somewhat agree</td>\n",
       "      <td>Agree</td>\n",
       "      <td>Disagree</td>\n",
       "      <td>Agree</td>\n",
       "      <td>113750.0</td>\n",
       "      <td>NaN</td>\n",
       "    </tr>\n",
       "    <tr>\n",
       "      <th>3</th>\n",
       "      <td>4</td>\n",
       "      <td>Professional non-developer who sometimes write...</td>\n",
       "      <td>Yes, both</td>\n",
       "      <td>United States</td>\n",
       "      <td>No</td>\n",
       "      <td>Employed full-time</td>\n",
       "      <td>Doctoral degree</td>\n",
       "      <td>A non-computer-focused engineering discipline</td>\n",
       "      <td>Less than half the time, but at least one day ...</td>\n",
       "      <td>10,000 or more employees</td>\n",
       "      <td>...</td>\n",
       "      <td>Disagree</td>\n",
       "      <td>Male</td>\n",
       "      <td>A doctoral degree</td>\n",
       "      <td>White or of European descent</td>\n",
       "      <td>Agree</td>\n",
       "      <td>Agree</td>\n",
       "      <td>Somewhat agree</td>\n",
       "      <td>Strongly agree</td>\n",
       "      <td>NaN</td>\n",
       "      <td>NaN</td>\n",
       "    </tr>\n",
       "    <tr>\n",
       "      <th>4</th>\n",
       "      <td>5</td>\n",
       "      <td>Professional developer</td>\n",
       "      <td>Yes, I program as a hobby</td>\n",
       "      <td>Switzerland</td>\n",
       "      <td>No</td>\n",
       "      <td>Employed full-time</td>\n",
       "      <td>Master's degree</td>\n",
       "      <td>Computer science or software engineering</td>\n",
       "      <td>Never</td>\n",
       "      <td>10 to 19 employees</td>\n",
       "      <td>...</td>\n",
       "      <td>NaN</td>\n",
       "      <td>NaN</td>\n",
       "      <td>NaN</td>\n",
       "      <td>NaN</td>\n",
       "      <td>NaN</td>\n",
       "      <td>NaN</td>\n",
       "      <td>NaN</td>\n",
       "      <td>NaN</td>\n",
       "      <td>NaN</td>\n",
       "      <td>NaN</td>\n",
       "    </tr>\n",
       "  </tbody>\n",
       "</table>\n",
       "<p>5 rows × 154 columns</p>\n",
       "</div>"
      ],
      "text/plain": [
       "   Respondent                                       Professional  \\\n",
       "0           1                                            Student   \n",
       "1           2                                            Student   \n",
       "2           3                             Professional developer   \n",
       "3           4  Professional non-developer who sometimes write...   \n",
       "4           5                             Professional developer   \n",
       "\n",
       "                ProgramHobby         Country      University  \\\n",
       "0                  Yes, both   United States              No   \n",
       "1                  Yes, both  United Kingdom  Yes, full-time   \n",
       "2                  Yes, both  United Kingdom              No   \n",
       "3                  Yes, both   United States              No   \n",
       "4  Yes, I program as a hobby     Switzerland              No   \n",
       "\n",
       "                         EmploymentStatus  \\\n",
       "0  Not employed, and not looking for work   \n",
       "1                      Employed part-time   \n",
       "2                      Employed full-time   \n",
       "3                      Employed full-time   \n",
       "4                      Employed full-time   \n",
       "\n",
       "                                     FormalEducation  \\\n",
       "0                                   Secondary school   \n",
       "1  Some college/university study without earning ...   \n",
       "2                                  Bachelor's degree   \n",
       "3                                    Doctoral degree   \n",
       "4                                    Master's degree   \n",
       "\n",
       "                                  MajorUndergrad  \\\n",
       "0                                            NaN   \n",
       "1       Computer science or software engineering   \n",
       "2       Computer science or software engineering   \n",
       "3  A non-computer-focused engineering discipline   \n",
       "4       Computer science or software engineering   \n",
       "\n",
       "                                          HomeRemote  \\\n",
       "0                                                NaN   \n",
       "1              More than half, but not all, the time   \n",
       "2  Less than half the time, but at least one day ...   \n",
       "3  Less than half the time, but at least one day ...   \n",
       "4                                              Never   \n",
       "\n",
       "                CompanySize       ...       StackOverflowMakeMoney Gender  \\\n",
       "0                       NaN       ...            Strongly disagree   Male   \n",
       "1        20 to 99 employees       ...            Strongly disagree   Male   \n",
       "2  10,000 or more employees       ...                     Disagree   Male   \n",
       "3  10,000 or more employees       ...                     Disagree   Male   \n",
       "4        10 to 19 employees       ...                          NaN    NaN   \n",
       "\n",
       "  HighestEducationParents                          Race         SurveyLong  \\\n",
       "0             High school  White or of European descent  Strongly disagree   \n",
       "1       A master's degree  White or of European descent     Somewhat agree   \n",
       "2   A professional degree  White or of European descent     Somewhat agree   \n",
       "3       A doctoral degree  White or of European descent              Agree   \n",
       "4                     NaN                           NaN                NaN   \n",
       "\n",
       "  QuestionsInteresting QuestionsConfusing InterestedAnswers    Salary  \\\n",
       "0       Strongly agree           Disagree    Strongly agree       NaN   \n",
       "1       Somewhat agree           Disagree    Strongly agree       NaN   \n",
       "2                Agree           Disagree             Agree  113750.0   \n",
       "3                Agree     Somewhat agree    Strongly agree       NaN   \n",
       "4                  NaN                NaN               NaN       NaN   \n",
       "\n",
       "   ExpectedSalary  \n",
       "0             NaN  \n",
       "1         37500.0  \n",
       "2             NaN  \n",
       "3             NaN  \n",
       "4             NaN  \n",
       "\n",
       "[5 rows x 154 columns]"
      ]
     },
     "execution_count": 2,
     "metadata": {},
     "output_type": "execute_result"
    }
   ],
   "source": [
    "df = pd.read_csv('./2017 survey_results_public.csv')\n",
    "schema = pd.read_csv('./2017 survey_results_schema.csv')\n",
    "df.head()"
   ]
  },
  {
   "cell_type": "code",
   "execution_count": 3,
   "metadata": {},
   "outputs": [
    {
     "name": "stdout",
     "output_type": "stream",
     "text": [
      "51392  rows within the original dataset\n",
      "154  columns within the original dataset\n",
      "(51392, 154)\n",
      "<class 'pandas.core.frame.DataFrame'>\n",
      "RangeIndex: 51392 entries, 0 to 51391\n",
      "Columns: 154 entries, Respondent to ExpectedSalary\n",
      "dtypes: float64(6), int64(1), object(147)\n",
      "memory usage: 60.4+ MB\n",
      "None\n"
     ]
    }
   ],
   "source": [
    "num_rows = df.shape[0] #Provide the number of rows in the dataset\n",
    "num_cols = df.shape[1] #Provide the number of columns in the dataset\n",
    "\n",
    "print(num_rows, \" rows within the original dataset\")\n",
    "print (num_cols, \" columns within the original dataset\")\n",
    "print(df.shape)\n",
    "print(df.info())"
   ]
  },
  {
   "cell_type": "code",
   "execution_count": 4,
   "metadata": {},
   "outputs": [
    {
     "data": {
      "text/html": [
       "<div>\n",
       "<style scoped>\n",
       "    .dataframe tbody tr th:only-of-type {\n",
       "        vertical-align: middle;\n",
       "    }\n",
       "\n",
       "    .dataframe tbody tr th {\n",
       "        vertical-align: top;\n",
       "    }\n",
       "\n",
       "    .dataframe thead th {\n",
       "        text-align: right;\n",
       "    }\n",
       "</style>\n",
       "<table border=\"1\" class=\"dataframe\">\n",
       "  <thead>\n",
       "    <tr style=\"text-align: right;\">\n",
       "      <th></th>\n",
       "      <th>Column</th>\n",
       "      <th>Question</th>\n",
       "    </tr>\n",
       "  </thead>\n",
       "  <tbody>\n",
       "    <tr>\n",
       "      <th>count</th>\n",
       "      <td>154</td>\n",
       "      <td>154</td>\n",
       "    </tr>\n",
       "    <tr>\n",
       "      <th>unique</th>\n",
       "      <td>154</td>\n",
       "      <td>149</td>\n",
       "    </tr>\n",
       "    <tr>\n",
       "      <th>top</th>\n",
       "      <td>StackOverflowNewQuestion</td>\n",
       "      <td>Which of the following languages have you done...</td>\n",
       "    </tr>\n",
       "    <tr>\n",
       "      <th>freq</th>\n",
       "      <td>1</td>\n",
       "      <td>2</td>\n",
       "    </tr>\n",
       "  </tbody>\n",
       "</table>\n",
       "</div>"
      ],
      "text/plain": [
       "                          Column  \\\n",
       "count                        154   \n",
       "unique                       154   \n",
       "top     StackOverflowNewQuestion   \n",
       "freq                           1   \n",
       "\n",
       "                                                 Question  \n",
       "count                                                 154  \n",
       "unique                                                149  \n",
       "top     Which of the following languages have you done...  \n",
       "freq                                                    2  "
      ]
     },
     "execution_count": 4,
     "metadata": {},
     "output_type": "execute_result"
    }
   ],
   "source": [
    "schema.describe()"
   ]
  },
  {
   "cell_type": "code",
   "execution_count": 5,
   "metadata": {},
   "outputs": [
    {
     "data": {
      "text/plain": [
       "(154, 2)"
      ]
     },
     "execution_count": 5,
     "metadata": {},
     "output_type": "execute_result"
    }
   ],
   "source": [
    "schema.shape"
   ]
  },
  {
   "cell_type": "code",
   "execution_count": 6,
   "metadata": {},
   "outputs": [
    {
     "name": "stdout",
     "output_type": "stream",
     "text": [
      "         Column                                           Question\n",
      "0    Respondent                               Respondent ID number\n",
      "1  Professional         Which of the following best describes you?\n",
      "2  ProgramHobby  Do you program as a hobby or contribute to ope...\n",
      "3       Country            In which country do you currently live?\n",
      "4    University  Are you currently enrolled in a formal, degree...\n"
     ]
    }
   ],
   "source": [
    "# check feat_info data\n",
    "print(schema.head(5))"
   ]
  },
  {
   "cell_type": "code",
   "execution_count": 7,
   "metadata": {},
   "outputs": [
    {
     "name": "stdout",
     "output_type": "stream",
     "text": [
      "Respondent                         0\n",
      "Professional                       0\n",
      "ProgramHobby                       0\n",
      "Country                            0\n",
      "University                         0\n",
      "EmploymentStatus                   0\n",
      "FormalEducation                    0\n",
      "MajorUndergrad                  8551\n",
      "HomeRemote                      7384\n",
      "CompanySize                    12470\n",
      "CompanyType                    12569\n",
      "YearsProgram                     247\n",
      "YearsCodedJob                  10502\n",
      "YearsCodedJobPast              50418\n",
      "DeveloperType                  15267\n",
      "WebDeveloperType               40696\n",
      "MobileDeveloperType            49839\n",
      "NonDeveloperType               46502\n",
      "CareerSatisfaction              8697\n",
      "JobSatisfaction                11016\n",
      "ExCoderReturn                  50469\n",
      "ExCoderNotForMe                50471\n",
      "ExCoderBalance                 50469\n",
      "ExCoder10Years                 50475\n",
      "ExCoderBelonged                50464\n",
      "ExCoderSkills                  50457\n",
      "ExCoderWillNotCode             50470\n",
      "ExCoderActive                  50462\n",
      "PronounceGIF                     384\n",
      "ProblemSolving                 20099\n",
      "                               ...  \n",
      "InfluenceRecruitment           29806\n",
      "InfluenceCommunication         29814\n",
      "StackOverflowDescribes         14460\n",
      "StackOverflowSatisfaction      14800\n",
      "StackOverflowDevices           16189\n",
      "StackOverflowFoundAnswer       17102\n",
      "StackOverflowCopiedCode        17483\n",
      "StackOverflowJobListing        17924\n",
      "StackOverflowCompanyPage       17957\n",
      "StackOverflowJobSearch         17977\n",
      "StackOverflowNewQuestion       17774\n",
      "StackOverflowAnswer            17836\n",
      "StackOverflowMetaChat          17985\n",
      "StackOverflowAdsRelevant       20575\n",
      "StackOverflowAdsDistracting    19655\n",
      "StackOverflowModeration        21263\n",
      "StackOverflowCommunity         18982\n",
      "StackOverflowHelpful           17446\n",
      "StackOverflowBetter            17742\n",
      "StackOverflowWhatDo            18023\n",
      "StackOverflowMakeMoney         20330\n",
      "Gender                         16345\n",
      "HighestEducationParents        16454\n",
      "Race                           18359\n",
      "SurveyLong                     16672\n",
      "QuestionsInteresting           16856\n",
      "QuestionsConfusing             16973\n",
      "InterestedAnswers              16780\n",
      "Salary                         38501\n",
      "ExpectedSalary                 48826\n",
      "Length: 154, dtype: int64\n"
     ]
    }
   ],
   "source": [
    "# check null number for each col\n",
    "print(df.isnull().sum())\n"
   ]
  },
  {
   "cell_type": "markdown",
   "metadata": {},
   "source": [
    "Gaining understanding of how \"empty\" are the fields containg data is relevant to have a better perspective of the effectiveness of the models built on these variables. The following cells show those columns with the most empty data and also those columns without missing data"
   ]
  },
  {
   "cell_type": "code",
   "execution_count": 8,
   "metadata": {},
   "outputs": [
    {
     "name": "stdout",
     "output_type": "stream",
     "text": [
      " columns without missing values\n",
      "{'FormalEducation', 'ProgramHobby', 'University', 'EmploymentStatus', 'Professional', 'Country', 'Respondent'}  \n",
      " \n",
      " columns with most missing values\n",
      "{'ExCoderNotForMe', 'WebDeveloperType', 'ExpectedSalary', 'MobileDeveloperType', 'ExCoderSkills', 'NonDeveloperType', 'ExCoderReturn', 'YearsCodedJobPast', 'ExCoderBalance', 'ExCoderWillNotCode', 'ExCoderBelonged', 'TimeAfterBootcamp', 'ExCoderActive', 'ExCoder10Years'}\n"
     ]
    }
   ],
   "source": [
    "#columns with no missing values\n",
    "no_nulls = set(df.columns[df.isnull().mean()==0])#Provide a set of columns with 0 missing values.\n",
    "\n",
    "most_missing_cols = set(df.columns[df.isnull().mean() > 0.75])#Provide a set of columns with more than 75% of the values missing\n",
    "\n",
    "print (\" columns without missing values\")\n",
    "print(no_nulls, \" \")\n",
    "print (\" \")\n",
    "print (\" columns with most missing values\")\n",
    "print(most_missing_cols, )"
   ]
  },
  {
   "cell_type": "code",
   "execution_count": 9,
   "metadata": {},
   "outputs": [
    {
     "data": {
      "text/plain": [
       "0.21435242839352428"
      ]
     },
     "execution_count": 9,
     "metadata": {},
     "output_type": "execute_result"
    }
   ],
   "source": [
    "#As an initial exploration, it is relevant to explore the null values in those columns \n",
    "#that I will be analizing, \n",
    "\n",
    "df['JobSatisfaction'].isnull().mean()"
   ]
  },
  {
   "cell_type": "code",
   "execution_count": 10,
   "metadata": {},
   "outputs": [
    {
     "data": {
      "text/plain": [
       "0.3956841531755915"
      ]
     },
     "execution_count": 10,
     "metadata": {},
     "output_type": "execute_result"
    }
   ],
   "source": [
    "df['FriendsDevelopers'].isnull().mean()"
   ]
  },
  {
   "cell_type": "code",
   "execution_count": 11,
   "metadata": {},
   "outputs": [
    {
     "data": {
      "text/plain": [
       "0.285958904109589"
      ]
     },
     "execution_count": 11,
     "metadata": {},
     "output_type": "execute_result"
    }
   ],
   "source": [
    "df['WorkStart'].isnull().mean()"
   ]
  },
  {
   "cell_type": "code",
   "execution_count": 12,
   "metadata": {},
   "outputs": [
    {
     "data": {
      "text/plain": [
       "0.4232565379825654"
      ]
     },
     "execution_count": 12,
     "metadata": {},
     "output_type": "execute_result"
    }
   ],
   "source": [
    "df['DifficultCommunication'].isnull().mean()"
   ]
  },
  {
   "cell_type": "markdown",
   "metadata": {},
   "source": [
    "the results show that 21% of the data related to \"job satisfaction\" is empty and 28% of the \"work start\" datais empty\n",
    "In the other hand, 42% of the \"difficult communication\" data is empty, which is a fact that will impact the accuracy of the\n",
    "model"
   ]
  },
  {
   "cell_type": "code",
   "execution_count": 13,
   "metadata": {},
   "outputs": [
    {
     "data": {
      "text/plain": [
       "InfluenceDatabase\n",
       "No influence at all              6.695669\n",
       "Not much influence               6.972815\n",
       "Some influence                   7.096511\n",
       "A lot of influence               7.150967\n",
       "I am the final decision maker    7.478336\n",
       "Name: JobSatisfaction, dtype: float64"
      ]
     },
     "execution_count": 13,
     "metadata": {},
     "output_type": "execute_result"
    }
   ],
   "source": [
    "df.groupby(['InfluenceDatabase']).mean()['JobSatisfaction'].sort_values()"
   ]
  },
  {
   "cell_type": "code",
   "execution_count": 14,
   "metadata": {},
   "outputs": [
    {
     "data": {
      "text/plain": [
       "DifficultCommunication\n",
       "Strongly agree       6.231132\n",
       "Agree                6.411046\n",
       "Somewhat agree       6.698524\n",
       "Disagree             7.060647\n",
       "Strongly disagree    7.379706\n",
       "Name: JobSatisfaction, dtype: float64"
      ]
     },
     "execution_count": 14,
     "metadata": {},
     "output_type": "execute_result"
    }
   ],
   "source": [
    "df.groupby(['DifficultCommunication']).mean()['JobSatisfaction'].sort_values()"
   ]
  },
  {
   "cell_type": "code",
   "execution_count": 15,
   "metadata": {},
   "outputs": [
    {
     "data": {
      "text/plain": [
       "FriendsDevelopers\n",
       "Strongly agree       6.922876\n",
       "Strongly disagree    6.935977\n",
       "Agree                6.937956\n",
       "Somewhat agree       6.957011\n",
       "Disagree             7.034128\n",
       "Name: JobSatisfaction, dtype: float64"
      ]
     },
     "execution_count": 15,
     "metadata": {},
     "output_type": "execute_result"
    }
   ],
   "source": [
    "df.groupby(['FriendsDevelopers']).mean()['JobSatisfaction'].sort_values()"
   ]
  },
  {
   "cell_type": "markdown",
   "metadata": {},
   "source": [
    "From the previous tables, I can conclude that the job satisfaction increases with the capability to influence which database is selected, and in the same way, the job satisfaction has an inverse relation with the difficult communicating with others.\n",
    "\n",
    "The following charts allow us to realize more easily the dispersion of the data across the variables that I am exploring. These charts are built using a pandas series of the counts for each type of result in the different variables:"
   ]
  },
  {
   "cell_type": "code",
   "execution_count": 16,
   "metadata": {},
   "outputs": [],
   "source": [
    "#as a starting point to explore the different options for the questions in our interest, \n",
    "\n",
    "status_vals_1 = df.JobSatisfaction.value_counts()\n",
    "status_vals_2 = df.FriendsDevelopers.value_counts()\n",
    "status_vals_3 = df.WorkStart.value_counts()\n",
    "status_vals_4 = df.DifficultCommunication.value_counts()\n",
    "status_vals_5 = df.HoursPerWeek.value_counts()\n"
   ]
  },
  {
   "cell_type": "code",
   "execution_count": 17,
   "metadata": {},
   "outputs": [
    {
     "data": {
      "image/png": "[encoded data removed]",
      "text/plain": [
       "<Figure size 432x288 with 1 Axes>"
      ]
     },
     "metadata": {
      "needs_background": "light"
     },
     "output_type": "display_data"
    }
   ],
   "source": [
    " #bar chart with data from \"job satisfaction\"\n",
    "(status_vals_1/df.shape[0]).plot(kind=\"bar\");\n",
    "\n",
    "plt.title(\"Job Satisfaction \");"
   ]
  },
  {
   "cell_type": "code",
   "execution_count": 18,
   "metadata": {},
   "outputs": [
    {
     "data": {
      "text/plain": [
       "<matplotlib.axes._subplots.AxesSubplot at 0x2eb528cd390>"
      ]
     },
     "execution_count": 18,
     "metadata": {},
     "output_type": "execute_result"
    },
    {
     "data": {
      "image/png": "[encoded data removed]",
      "text/plain": [
       "<Figure size 432x288 with 1 Axes>"
      ]
     },
     "metadata": {
      "needs_background": "light"
     },
     "output_type": "display_data"
    }
   ],
   "source": [
    "(status_vals_1/df.shape[0]).hist()"
   ]
  },
  {
   "cell_type": "code",
   "execution_count": 19,
   "metadata": {},
   "outputs": [
    {
     "data": {
      "image/png": "[encoded data removed]",
      "text/plain": [
       "<Figure size 432x288 with 1 Axes>"
      ]
     },
     "metadata": {
      "needs_background": "light"
     },
     "output_type": "display_data"
    }
   ],
   "source": [
    " #bar chart with data from \"Friends Developers\"\n",
    "(status_vals_2/df.shape[0]).plot(kind=\"bar\");\n",
    "plt.title(\"Friends Developers \");"
   ]
  },
  {
   "cell_type": "code",
   "execution_count": 20,
   "metadata": {},
   "outputs": [
    {
     "data": {
      "image/png": "[encoded data removed]",
      "text/plain": [
       "<Figure size 432x288 with 1 Axes>"
      ]
     },
     "metadata": {
      "needs_background": "light"
     },
     "output_type": "display_data"
    }
   ],
   "source": [
    " #bar chart with data from \"Time Start\"\n",
    "(status_vals_3/df.shape[0]).plot(kind=\"bar\");\n",
    "plt.title(\"Time Start\");"
   ]
  },
  {
   "cell_type": "code",
   "execution_count": 21,
   "metadata": {},
   "outputs": [
    {
     "data": {
      "image/png": "[encoded data removed]",
      "text/plain": [
       "<Figure size 432x288 with 1 Axes>"
      ]
     },
     "metadata": {
      "needs_background": "light"
     },
     "output_type": "display_data"
    }
   ],
   "source": [
    " #bar chart with data from \"DifficultCommunication\"\n",
    "(status_vals_4/df.shape[0]).plot(kind=\"bar\");\n",
    "plt.title(\"Difficult Communication\");"
   ]
  },
  {
   "cell_type": "code",
   "execution_count": null,
   "metadata": {},
   "outputs": [],
   "source": []
  },
  {
   "cell_type": "code",
   "execution_count": 22,
   "metadata": {},
   "outputs": [
    {
     "data": {
      "image/png": "[encoded data removed]",
      "text/plain": [
       "<Figure size 432x288 with 1 Axes>"
      ]
     },
     "metadata": {
      "needs_background": "light"
     },
     "output_type": "display_data"
    }
   ],
   "source": [
    " #bar chart with data from \"Hours per Week\"\n",
    "(status_vals_5/df.shape[0]).plot(kind=\"bar\");\n",
    "plt.title(\"Hours of Work per Week\");\n"
   ]
  },
  {
   "cell_type": "markdown",
   "metadata": {},
   "source": [
    "as the above bar chart is difficult to be interpreted due to the wide variation of hours per week, the following histogram is a \n"
   ]
  },
  {
   "cell_type": "code",
   "execution_count": 23,
   "metadata": {},
   "outputs": [
    {
     "data": {
      "text/plain": [
       "<matplotlib.axes._subplots.AxesSubplot at 0x2eb52aa8c18>"
      ]
     },
     "execution_count": 23,
     "metadata": {},
     "output_type": "execute_result"
    },
    {
     "data": {
      "image/png": "[encoded data removed]",
      "text/plain": [
       "<Figure size 432x288 with 1 Axes>"
      ]
     },
     "metadata": {
      "needs_background": "light"
     },
     "output_type": "display_data"
    }
   ],
   "source": [
    "#more friendly way to understand the behavior of this variable.\n",
    "status_vals_5.hist()"
   ]
  },
  {
   "cell_type": "code",
   "execution_count": 24,
   "metadata": {},
   "outputs": [
    {
     "data": {
      "text/html": [
       "<div>\n",
       "<style scoped>\n",
       "    .dataframe tbody tr th:only-of-type {\n",
       "        vertical-align: middle;\n",
       "    }\n",
       "\n",
       "    .dataframe tbody tr th {\n",
       "        vertical-align: top;\n",
       "    }\n",
       "\n",
       "    .dataframe thead th {\n",
       "        text-align: right;\n",
       "    }\n",
       "</style>\n",
       "<table border=\"1\" class=\"dataframe\">\n",
       "  <thead>\n",
       "    <tr style=\"text-align: right;\">\n",
       "      <th></th>\n",
       "      <th>Column</th>\n",
       "      <th>Question</th>\n",
       "    </tr>\n",
       "  </thead>\n",
       "  <tbody>\n",
       "    <tr>\n",
       "      <th>0</th>\n",
       "      <td>Respondent</td>\n",
       "      <td>Respondent ID number</td>\n",
       "    </tr>\n",
       "    <tr>\n",
       "      <th>1</th>\n",
       "      <td>Professional</td>\n",
       "      <td>Which of the following best describes you?</td>\n",
       "    </tr>\n",
       "    <tr>\n",
       "      <th>2</th>\n",
       "      <td>ProgramHobby</td>\n",
       "      <td>Do you program as a hobby or contribute to ope...</td>\n",
       "    </tr>\n",
       "    <tr>\n",
       "      <th>3</th>\n",
       "      <td>Country</td>\n",
       "      <td>In which country do you currently live?</td>\n",
       "    </tr>\n",
       "    <tr>\n",
       "      <th>4</th>\n",
       "      <td>University</td>\n",
       "      <td>Are you currently enrolled in a formal, degree...</td>\n",
       "    </tr>\n",
       "  </tbody>\n",
       "</table>\n",
       "</div>"
      ],
      "text/plain": [
       "         Column                                           Question\n",
       "0    Respondent                               Respondent ID number\n",
       "1  Professional         Which of the following best describes you?\n",
       "2  ProgramHobby  Do you program as a hobby or contribute to ope...\n",
       "3       Country            In which country do you currently live?\n",
       "4    University  Are you currently enrolled in a formal, degree..."
      ]
     },
     "execution_count": 24,
     "metadata": {},
     "output_type": "execute_result"
    }
   ],
   "source": [
    "# This dataset clarifies the content of each field contained in the responses\n",
    "schema.head()"
   ]
  },
  {
   "cell_type": "markdown",
   "metadata": {},
   "source": [
    "## Data Preparation"
   ]
  },
  {
   "cell_type": "code",
   "execution_count": 25,
   "metadata": {},
   "outputs": [
    {
     "data": {
      "text/html": [
       "<div>\n",
       "<style scoped>\n",
       "    .dataframe tbody tr th:only-of-type {\n",
       "        vertical-align: middle;\n",
       "    }\n",
       "\n",
       "    .dataframe tbody tr th {\n",
       "        vertical-align: top;\n",
       "    }\n",
       "\n",
       "    .dataframe thead th {\n",
       "        text-align: right;\n",
       "    }\n",
       "</style>\n",
       "<table border=\"1\" class=\"dataframe\">\n",
       "  <thead>\n",
       "    <tr style=\"text-align: right;\">\n",
       "      <th></th>\n",
       "      <th>Respondent</th>\n",
       "      <th>CareerSatisfaction</th>\n",
       "      <th>JobSatisfaction</th>\n",
       "      <th>HoursPerWeek</th>\n",
       "      <th>StackOverflowSatisfaction</th>\n",
       "      <th>Salary</th>\n",
       "      <th>ExpectedSalary</th>\n",
       "    </tr>\n",
       "  </thead>\n",
       "  <tbody>\n",
       "    <tr>\n",
       "      <th>count</th>\n",
       "      <td>51392.000000</td>\n",
       "      <td>42695.000000</td>\n",
       "      <td>40376.000000</td>\n",
       "      <td>20600.000000</td>\n",
       "      <td>36592.000000</td>\n",
       "      <td>12891.000000</td>\n",
       "      <td>2566.000000</td>\n",
       "    </tr>\n",
       "    <tr>\n",
       "      <th>mean</th>\n",
       "      <td>25696.500000</td>\n",
       "      <td>7.300574</td>\n",
       "      <td>6.957078</td>\n",
       "      <td>3.952282</td>\n",
       "      <td>8.429875</td>\n",
       "      <td>56298.480641</td>\n",
       "      <td>33142.220468</td>\n",
       "    </tr>\n",
       "    <tr>\n",
       "      <th>std</th>\n",
       "      <td>14835.736854</td>\n",
       "      <td>1.955444</td>\n",
       "      <td>2.167652</td>\n",
       "      <td>7.564722</td>\n",
       "      <td>1.390635</td>\n",
       "      <td>39880.905277</td>\n",
       "      <td>30162.988829</td>\n",
       "    </tr>\n",
       "    <tr>\n",
       "      <th>min</th>\n",
       "      <td>1.000000</td>\n",
       "      <td>0.000000</td>\n",
       "      <td>0.000000</td>\n",
       "      <td>0.000000</td>\n",
       "      <td>0.000000</td>\n",
       "      <td>0.000000</td>\n",
       "      <td>0.000000</td>\n",
       "    </tr>\n",
       "    <tr>\n",
       "      <th>25%</th>\n",
       "      <td>12848.750000</td>\n",
       "      <td>6.000000</td>\n",
       "      <td>6.000000</td>\n",
       "      <td>1.000000</td>\n",
       "      <td>8.000000</td>\n",
       "      <td>26440.371839</td>\n",
       "      <td>4490.492484</td>\n",
       "    </tr>\n",
       "    <tr>\n",
       "      <th>50%</th>\n",
       "      <td>25696.500000</td>\n",
       "      <td>8.000000</td>\n",
       "      <td>7.000000</td>\n",
       "      <td>1.000000</td>\n",
       "      <td>9.000000</td>\n",
       "      <td>50000.000000</td>\n",
       "      <td>29364.263691</td>\n",
       "    </tr>\n",
       "    <tr>\n",
       "      <th>75%</th>\n",
       "      <td>38544.250000</td>\n",
       "      <td>9.000000</td>\n",
       "      <td>8.000000</td>\n",
       "      <td>4.000000</td>\n",
       "      <td>10.000000</td>\n",
       "      <td>80000.000000</td>\n",
       "      <td>50403.225806</td>\n",
       "    </tr>\n",
       "    <tr>\n",
       "      <th>max</th>\n",
       "      <td>51392.000000</td>\n",
       "      <td>10.000000</td>\n",
       "      <td>10.000000</td>\n",
       "      <td>40.000000</td>\n",
       "      <td>10.000000</td>\n",
       "      <td>197000.000000</td>\n",
       "      <td>187500.000000</td>\n",
       "    </tr>\n",
       "  </tbody>\n",
       "</table>\n",
       "</div>"
      ],
      "text/plain": [
       "         Respondent  CareerSatisfaction  JobSatisfaction  HoursPerWeek  \\\n",
       "count  51392.000000        42695.000000     40376.000000  20600.000000   \n",
       "mean   25696.500000            7.300574         6.957078      3.952282   \n",
       "std    14835.736854            1.955444         2.167652      7.564722   \n",
       "min        1.000000            0.000000         0.000000      0.000000   \n",
       "25%    12848.750000            6.000000         6.000000      1.000000   \n",
       "50%    25696.500000            8.000000         7.000000      1.000000   \n",
       "75%    38544.250000            9.000000         8.000000      4.000000   \n",
       "max    51392.000000           10.000000        10.000000     40.000000   \n",
       "\n",
       "       StackOverflowSatisfaction         Salary  ExpectedSalary  \n",
       "count               36592.000000   12891.000000     2566.000000  \n",
       "mean                    8.429875   56298.480641    33142.220468  \n",
       "std                     1.390635   39880.905277    30162.988829  \n",
       "min                     0.000000       0.000000        0.000000  \n",
       "25%                     8.000000   26440.371839     4490.492484  \n",
       "50%                     9.000000   50000.000000    29364.263691  \n",
       "75%                    10.000000   80000.000000    50403.225806  \n",
       "max                    10.000000  197000.000000   187500.000000  "
      ]
     },
     "execution_count": 25,
     "metadata": {},
     "output_type": "execute_result"
    }
   ],
   "source": [
    "df.describe()"
   ]
  },
  {
   "cell_type": "markdown",
   "metadata": {},
   "source": [
    "\n",
    "A heat map can also help to clarify the different correlation between variables within the dataset. Interestingly, the variable of \"Job Satisfaction\" correlates very poorly with most of the variables (including Salary), with the exception of \"Career Satisfaction\" which correlates at 65%"
   ]
  },
  {
   "cell_type": "code",
   "execution_count": 26,
   "metadata": {},
   "outputs": [
    {
     "data": {
      "image/png": "[encoded data removed]",
      "text/plain": [
       "<Figure size 432x288 with 2 Axes>"
      ]
     },
     "metadata": {
      "needs_background": "light"
     },
     "output_type": "display_data"
    }
   ],
   "source": [
    "sns.heatmap(df.corr(), annot = True, fmt = '.3f');"
   ]
  },
  {
   "cell_type": "markdown",
   "metadata": {},
   "source": [
    "## Modeling\n",
    "\n",
    "### Instantiation"
   ]
  },
  {
   "cell_type": "markdown",
   "metadata": {},
   "source": [
    "Create a model with those variables that are interesting / will be part of my model to predict the job satisfaction:"
   ]
  },
  {
   "cell_type": "code",
   "execution_count": 27,
   "metadata": {},
   "outputs": [],
   "source": [
    "\n",
    "X = df[['InfluenceHardware', 'InfluenceServers', 'InfluenceTechStack','InfluenceVizTools','InfluenceDatabase', 'InfluenceCloud','InfluenceConsultants','InfluenceRecruitment', 'DifficultCommunication']]\n",
    "y = df[['JobSatisfaction']]\n",
    "\n",
    "X_train, X_test, y_train, y_test = train_test_split(X, y, test_size = 0.3, random_state = 42)\n",
    "\n",
    "lm_model = LinearRegression(normalize = True)"
   ]
  },
  {
   "cell_type": "code",
   "execution_count": 28,
   "metadata": {},
   "outputs": [
    {
     "data": {
      "text/html": [
       "<div>\n",
       "<style scoped>\n",
       "    .dataframe tbody tr th:only-of-type {\n",
       "        vertical-align: middle;\n",
       "    }\n",
       "\n",
       "    .dataframe tbody tr th {\n",
       "        vertical-align: top;\n",
       "    }\n",
       "\n",
       "    .dataframe thead th {\n",
       "        text-align: right;\n",
       "    }\n",
       "</style>\n",
       "<table border=\"1\" class=\"dataframe\">\n",
       "  <thead>\n",
       "    <tr style=\"text-align: right;\">\n",
       "      <th></th>\n",
       "      <th>InfluenceHardware</th>\n",
       "      <th>InfluenceServers</th>\n",
       "      <th>InfluenceTechStack</th>\n",
       "      <th>InfluenceVizTools</th>\n",
       "      <th>InfluenceDatabase</th>\n",
       "      <th>InfluenceCloud</th>\n",
       "      <th>InfluenceConsultants</th>\n",
       "      <th>InfluenceRecruitment</th>\n",
       "      <th>DifficultCommunication</th>\n",
       "    </tr>\n",
       "  </thead>\n",
       "  <tbody>\n",
       "    <tr>\n",
       "      <th>0</th>\n",
       "      <td>NaN</td>\n",
       "      <td>NaN</td>\n",
       "      <td>NaN</td>\n",
       "      <td>NaN</td>\n",
       "      <td>NaN</td>\n",
       "      <td>NaN</td>\n",
       "      <td>NaN</td>\n",
       "      <td>NaN</td>\n",
       "      <td>NaN</td>\n",
       "    </tr>\n",
       "    <tr>\n",
       "      <th>1</th>\n",
       "      <td>No influence at all</td>\n",
       "      <td>No influence at all</td>\n",
       "      <td>No influence at all</td>\n",
       "      <td>No influence at all</td>\n",
       "      <td>No influence at all</td>\n",
       "      <td>No influence at all</td>\n",
       "      <td>No influence at all</td>\n",
       "      <td>No influence at all</td>\n",
       "      <td>Disagree</td>\n",
       "    </tr>\n",
       "    <tr>\n",
       "      <th>2</th>\n",
       "      <td>Some influence</td>\n",
       "      <td>Some influence</td>\n",
       "      <td>Some influence</td>\n",
       "      <td>Some influence</td>\n",
       "      <td>Some influence</td>\n",
       "      <td>Some influence</td>\n",
       "      <td>Some influence</td>\n",
       "      <td>Some influence</td>\n",
       "      <td>Disagree</td>\n",
       "    </tr>\n",
       "    <tr>\n",
       "      <th>3</th>\n",
       "      <td>NaN</td>\n",
       "      <td>NaN</td>\n",
       "      <td>NaN</td>\n",
       "      <td>NaN</td>\n",
       "      <td>NaN</td>\n",
       "      <td>NaN</td>\n",
       "      <td>NaN</td>\n",
       "      <td>NaN</td>\n",
       "      <td>Disagree</td>\n",
       "    </tr>\n",
       "    <tr>\n",
       "      <th>4</th>\n",
       "      <td>NaN</td>\n",
       "      <td>NaN</td>\n",
       "      <td>NaN</td>\n",
       "      <td>NaN</td>\n",
       "      <td>NaN</td>\n",
       "      <td>NaN</td>\n",
       "      <td>NaN</td>\n",
       "      <td>NaN</td>\n",
       "      <td>NaN</td>\n",
       "    </tr>\n",
       "  </tbody>\n",
       "</table>\n",
       "</div>"
      ],
      "text/plain": [
       "     InfluenceHardware     InfluenceServers   InfluenceTechStack  \\\n",
       "0                  NaN                  NaN                  NaN   \n",
       "1  No influence at all  No influence at all  No influence at all   \n",
       "2       Some influence       Some influence       Some influence   \n",
       "3                  NaN                  NaN                  NaN   \n",
       "4                  NaN                  NaN                  NaN   \n",
       "\n",
       "     InfluenceVizTools    InfluenceDatabase       InfluenceCloud  \\\n",
       "0                  NaN                  NaN                  NaN   \n",
       "1  No influence at all  No influence at all  No influence at all   \n",
       "2       Some influence       Some influence       Some influence   \n",
       "3                  NaN                  NaN                  NaN   \n",
       "4                  NaN                  NaN                  NaN   \n",
       "\n",
       "  InfluenceConsultants InfluenceRecruitment DifficultCommunication  \n",
       "0                  NaN                  NaN                    NaN  \n",
       "1  No influence at all  No influence at all               Disagree  \n",
       "2       Some influence       Some influence               Disagree  \n",
       "3                  NaN                  NaN               Disagree  \n",
       "4                  NaN                  NaN                    NaN  "
      ]
     },
     "execution_count": 28,
     "metadata": {},
     "output_type": "execute_result"
    }
   ],
   "source": [
    "X.head()"
   ]
  },
  {
   "cell_type": "code",
   "execution_count": 29,
   "metadata": {},
   "outputs": [
    {
     "data": {
      "text/plain": [
       "(35974, 9)"
      ]
     },
     "execution_count": 29,
     "metadata": {},
     "output_type": "execute_result"
    }
   ],
   "source": [
    "X_train.shape"
   ]
  },
  {
   "cell_type": "code",
   "execution_count": 30,
   "metadata": {},
   "outputs": [
    {
     "data": {
      "text/html": [
       "<div>\n",
       "<style scoped>\n",
       "    .dataframe tbody tr th:only-of-type {\n",
       "        vertical-align: middle;\n",
       "    }\n",
       "\n",
       "    .dataframe tbody tr th {\n",
       "        vertical-align: top;\n",
       "    }\n",
       "\n",
       "    .dataframe thead th {\n",
       "        text-align: right;\n",
       "    }\n",
       "</style>\n",
       "<table border=\"1\" class=\"dataframe\">\n",
       "  <thead>\n",
       "    <tr style=\"text-align: right;\">\n",
       "      <th></th>\n",
       "      <th>InfluenceHardware</th>\n",
       "      <th>InfluenceServers</th>\n",
       "      <th>InfluenceTechStack</th>\n",
       "      <th>InfluenceVizTools</th>\n",
       "      <th>InfluenceDatabase</th>\n",
       "      <th>InfluenceCloud</th>\n",
       "      <th>InfluenceConsultants</th>\n",
       "      <th>InfluenceRecruitment</th>\n",
       "      <th>DifficultCommunication</th>\n",
       "    </tr>\n",
       "  </thead>\n",
       "  <tbody>\n",
       "    <tr>\n",
       "      <th>46417</th>\n",
       "      <td>Some influence</td>\n",
       "      <td>I am the final decision maker</td>\n",
       "      <td>No influence at all</td>\n",
       "      <td>No influence at all</td>\n",
       "      <td>A lot of influence</td>\n",
       "      <td>A lot of influence</td>\n",
       "      <td>Some influence</td>\n",
       "      <td>No influence at all</td>\n",
       "      <td>Disagree</td>\n",
       "    </tr>\n",
       "    <tr>\n",
       "      <th>41666</th>\n",
       "      <td>Not much influence</td>\n",
       "      <td>Not much influence</td>\n",
       "      <td>Not much influence</td>\n",
       "      <td>Not much influence</td>\n",
       "      <td>Not much influence</td>\n",
       "      <td>A lot of influence</td>\n",
       "      <td>Some influence</td>\n",
       "      <td>Some influence</td>\n",
       "      <td>Disagree</td>\n",
       "    </tr>\n",
       "    <tr>\n",
       "      <th>40169</th>\n",
       "      <td>NaN</td>\n",
       "      <td>NaN</td>\n",
       "      <td>NaN</td>\n",
       "      <td>NaN</td>\n",
       "      <td>NaN</td>\n",
       "      <td>NaN</td>\n",
       "      <td>NaN</td>\n",
       "      <td>NaN</td>\n",
       "      <td>Somewhat agree</td>\n",
       "    </tr>\n",
       "    <tr>\n",
       "      <th>51371</th>\n",
       "      <td>Not much influence</td>\n",
       "      <td>Some influence</td>\n",
       "      <td>A lot of influence</td>\n",
       "      <td>Not much influence</td>\n",
       "      <td>Some influence</td>\n",
       "      <td>Some influence</td>\n",
       "      <td>No influence at all</td>\n",
       "      <td>No influence at all</td>\n",
       "      <td>NaN</td>\n",
       "    </tr>\n",
       "    <tr>\n",
       "      <th>25486</th>\n",
       "      <td>NaN</td>\n",
       "      <td>NaN</td>\n",
       "      <td>NaN</td>\n",
       "      <td>NaN</td>\n",
       "      <td>NaN</td>\n",
       "      <td>NaN</td>\n",
       "      <td>NaN</td>\n",
       "      <td>NaN</td>\n",
       "      <td>NaN</td>\n",
       "    </tr>\n",
       "    <tr>\n",
       "      <th>11141</th>\n",
       "      <td>No influence at all</td>\n",
       "      <td>No influence at all</td>\n",
       "      <td>Not much influence</td>\n",
       "      <td>No influence at all</td>\n",
       "      <td>No influence at all</td>\n",
       "      <td>No influence at all</td>\n",
       "      <td>No influence at all</td>\n",
       "      <td>No influence at all</td>\n",
       "      <td>Somewhat agree</td>\n",
       "    </tr>\n",
       "    <tr>\n",
       "      <th>31374</th>\n",
       "      <td>NaN</td>\n",
       "      <td>NaN</td>\n",
       "      <td>NaN</td>\n",
       "      <td>NaN</td>\n",
       "      <td>NaN</td>\n",
       "      <td>NaN</td>\n",
       "      <td>NaN</td>\n",
       "      <td>NaN</td>\n",
       "      <td>NaN</td>\n",
       "    </tr>\n",
       "    <tr>\n",
       "      <th>50963</th>\n",
       "      <td>NaN</td>\n",
       "      <td>NaN</td>\n",
       "      <td>NaN</td>\n",
       "      <td>NaN</td>\n",
       "      <td>NaN</td>\n",
       "      <td>NaN</td>\n",
       "      <td>NaN</td>\n",
       "      <td>NaN</td>\n",
       "      <td>Strongly disagree</td>\n",
       "    </tr>\n",
       "    <tr>\n",
       "      <th>7278</th>\n",
       "      <td>Not much influence</td>\n",
       "      <td>Not much influence</td>\n",
       "      <td>Not much influence</td>\n",
       "      <td>Not much influence</td>\n",
       "      <td>Not much influence</td>\n",
       "      <td>Not much influence</td>\n",
       "      <td>Not much influence</td>\n",
       "      <td>Not much influence</td>\n",
       "      <td>NaN</td>\n",
       "    </tr>\n",
       "    <tr>\n",
       "      <th>32494</th>\n",
       "      <td>NaN</td>\n",
       "      <td>NaN</td>\n",
       "      <td>NaN</td>\n",
       "      <td>NaN</td>\n",
       "      <td>NaN</td>\n",
       "      <td>NaN</td>\n",
       "      <td>NaN</td>\n",
       "      <td>NaN</td>\n",
       "      <td>Strongly disagree</td>\n",
       "    </tr>\n",
       "  </tbody>\n",
       "</table>\n",
       "</div>"
      ],
      "text/plain": [
       "         InfluenceHardware               InfluenceServers  \\\n",
       "46417       Some influence  I am the final decision maker   \n",
       "41666   Not much influence             Not much influence   \n",
       "40169                  NaN                            NaN   \n",
       "51371   Not much influence                 Some influence   \n",
       "25486                  NaN                            NaN   \n",
       "11141  No influence at all            No influence at all   \n",
       "31374                  NaN                            NaN   \n",
       "50963                  NaN                            NaN   \n",
       "7278    Not much influence             Not much influence   \n",
       "32494                  NaN                            NaN   \n",
       "\n",
       "        InfluenceTechStack    InfluenceVizTools    InfluenceDatabase  \\\n",
       "46417  No influence at all  No influence at all   A lot of influence   \n",
       "41666   Not much influence   Not much influence   Not much influence   \n",
       "40169                  NaN                  NaN                  NaN   \n",
       "51371   A lot of influence   Not much influence       Some influence   \n",
       "25486                  NaN                  NaN                  NaN   \n",
       "11141   Not much influence  No influence at all  No influence at all   \n",
       "31374                  NaN                  NaN                  NaN   \n",
       "50963                  NaN                  NaN                  NaN   \n",
       "7278    Not much influence   Not much influence   Not much influence   \n",
       "32494                  NaN                  NaN                  NaN   \n",
       "\n",
       "            InfluenceCloud InfluenceConsultants InfluenceRecruitment  \\\n",
       "46417   A lot of influence       Some influence  No influence at all   \n",
       "41666   A lot of influence       Some influence       Some influence   \n",
       "40169                  NaN                  NaN                  NaN   \n",
       "51371       Some influence  No influence at all  No influence at all   \n",
       "25486                  NaN                  NaN                  NaN   \n",
       "11141  No influence at all  No influence at all  No influence at all   \n",
       "31374                  NaN                  NaN                  NaN   \n",
       "50963                  NaN                  NaN                  NaN   \n",
       "7278    Not much influence   Not much influence   Not much influence   \n",
       "32494                  NaN                  NaN                  NaN   \n",
       "\n",
       "      DifficultCommunication  \n",
       "46417               Disagree  \n",
       "41666               Disagree  \n",
       "40169         Somewhat agree  \n",
       "51371                    NaN  \n",
       "25486                    NaN  \n",
       "11141         Somewhat agree  \n",
       "31374                    NaN  \n",
       "50963      Strongly disagree  \n",
       "7278                     NaN  \n",
       "32494      Strongly disagree  "
      ]
     },
     "execution_count": 30,
     "metadata": {},
     "output_type": "execute_result"
    }
   ],
   "source": [
    "#quick reference of what is included in this dataset\n",
    "X_train[:10]"
   ]
  },
  {
   "cell_type": "code",
   "execution_count": 31,
   "metadata": {},
   "outputs": [
    {
     "data": {
      "text/plain": [
       "(15418, 9)"
      ]
     },
     "execution_count": 31,
     "metadata": {},
     "output_type": "execute_result"
    }
   ],
   "source": [
    "X_test.shape"
   ]
  },
  {
   "cell_type": "code",
   "execution_count": 32,
   "metadata": {},
   "outputs": [
    {
     "data": {
      "text/plain": [
       "(35974, 1)"
      ]
     },
     "execution_count": 32,
     "metadata": {},
     "output_type": "execute_result"
    }
   ],
   "source": [
    "y_train.shape"
   ]
  },
  {
   "cell_type": "code",
   "execution_count": 33,
   "metadata": {},
   "outputs": [
    {
     "data": {
      "text/plain": [
       "(15418, 1)"
      ]
     },
     "execution_count": 33,
     "metadata": {},
     "output_type": "execute_result"
    }
   ],
   "source": [
    "y_test.shape"
   ]
  },
  {
   "cell_type": "markdown",
   "metadata": {},
   "source": [
    "### Fit Model / Predict / Score the Model"
   ]
  },
  {
   "cell_type": "markdown",
   "metadata": {},
   "source": [
    "The variables of interest are not numerical, and therefore the linear model can't be executed without managing the values from these columns\n",
    "\n",
    "For this particular case in which most of my column are categorical variables I will replace the string with nuerical values, in such a way that the model can be run.\n",
    "\n",
    "Code for this section was taken from:\n",
    "https://www.geeksforgeeks.org/ml-label-encoding-of-datasets-in-python/#targetText=ML%20%7C%20Label%20Encoding%20of%20datasets,or%20more%20than%20one%20columns.&targetText=Label%20Encoding%20refers%20to%20converting,into%20the%20machine%2Dreadable%20form."
   ]
  },
  {
   "cell_type": "code",
   "execution_count": 34,
   "metadata": {},
   "outputs": [],
   "source": [
    "#drop any rows with missing values\n",
    "num_vars = df[['JobSatisfaction','FriendsDevelopers', 'HoursPerWeek', 'WorkStart', 'DifficultCommunication']]\n",
    "df_dropna = num_vars.dropna(axis=0)\n",
    "\n",
    "#Drop the rows with missing salaries in field \"DifficultCommunication\"\n",
    "drop_comm_df = num_vars.dropna(subset=['DifficultCommunication'], axis=0)"
   ]
  },
  {
   "cell_type": "code",
   "execution_count": 35,
   "metadata": {},
   "outputs": [
    {
     "data": {
      "text/html": [
       "<div>\n",
       "<style scoped>\n",
       "    .dataframe tbody tr th:only-of-type {\n",
       "        vertical-align: middle;\n",
       "    }\n",
       "\n",
       "    .dataframe tbody tr th {\n",
       "        vertical-align: top;\n",
       "    }\n",
       "\n",
       "    .dataframe thead th {\n",
       "        text-align: right;\n",
       "    }\n",
       "</style>\n",
       "<table border=\"1\" class=\"dataframe\">\n",
       "  <thead>\n",
       "    <tr style=\"text-align: right;\">\n",
       "      <th></th>\n",
       "      <th>JobSatisfaction</th>\n",
       "      <th>FriendsDevelopers</th>\n",
       "      <th>HoursPerWeek</th>\n",
       "      <th>WorkStart</th>\n",
       "      <th>DifficultCommunication</th>\n",
       "    </tr>\n",
       "  </thead>\n",
       "  <tbody>\n",
       "    <tr>\n",
       "      <th>3</th>\n",
       "      <td>3.0</td>\n",
       "      <td>Agree</td>\n",
       "      <td>5.0</td>\n",
       "      <td>9:00 AM</td>\n",
       "      <td>Disagree</td>\n",
       "    </tr>\n",
       "    <tr>\n",
       "      <th>8</th>\n",
       "      <td>6.0</td>\n",
       "      <td>Somewhat agree</td>\n",
       "      <td>2.0</td>\n",
       "      <td>9:00 AM</td>\n",
       "      <td>Disagree</td>\n",
       "    </tr>\n",
       "    <tr>\n",
       "      <th>15</th>\n",
       "      <td>8.0</td>\n",
       "      <td>Disagree</td>\n",
       "      <td>0.0</td>\n",
       "      <td>10:00 AM</td>\n",
       "      <td>Disagree</td>\n",
       "    </tr>\n",
       "    <tr>\n",
       "      <th>21</th>\n",
       "      <td>8.0</td>\n",
       "      <td>Agree</td>\n",
       "      <td>1.0</td>\n",
       "      <td>10:00 AM</td>\n",
       "      <td>Strongly disagree</td>\n",
       "    </tr>\n",
       "    <tr>\n",
       "      <th>33</th>\n",
       "      <td>5.0</td>\n",
       "      <td>Disagree</td>\n",
       "      <td>2.0</td>\n",
       "      <td>10:00 AM</td>\n",
       "      <td>Disagree</td>\n",
       "    </tr>\n",
       "  </tbody>\n",
       "</table>\n",
       "</div>"
      ],
      "text/plain": [
       "    JobSatisfaction FriendsDevelopers  HoursPerWeek WorkStart  \\\n",
       "3               3.0             Agree           5.0   9:00 AM   \n",
       "8               6.0    Somewhat agree           2.0   9:00 AM   \n",
       "15              8.0          Disagree           0.0  10:00 AM   \n",
       "21              8.0             Agree           1.0  10:00 AM   \n",
       "33              5.0          Disagree           2.0  10:00 AM   \n",
       "\n",
       "   DifficultCommunication  \n",
       "3                Disagree  \n",
       "8                Disagree  \n",
       "15               Disagree  \n",
       "21      Strongly disagree  \n",
       "33               Disagree  "
      ]
     },
     "execution_count": 35,
     "metadata": {},
     "output_type": "execute_result"
    }
   ],
   "source": [
    "#dataframe with the variables of interest that does not have NA included:\n",
    "df_dropna.head()"
   ]
  },
  {
   "cell_type": "code",
   "execution_count": 36,
   "metadata": {},
   "outputs": [],
   "source": [
    "#start label processing to label encode and transform to numerical variables\n",
    "\n",
    "from sklearn import preprocessing\n",
    "le_1 = preprocessing.LabelEncoder()"
   ]
  },
  {
   "cell_type": "code",
   "execution_count": 37,
   "metadata": {},
   "outputs": [
    {
     "name": "stderr",
     "output_type": "stream",
     "text": [
      "C:\\Users\\alonslui\\AppData\\Local\\Continuum\\anaconda\\lib\\site-packages\\ipykernel_launcher.py:2: SettingWithCopyWarning: \n",
      "A value is trying to be set on a copy of a slice from a DataFrame.\n",
      "Try using .loc[row_indexer,col_indexer] = value instead\n",
      "\n",
      "See the caveats in the documentation: http://pandas.pydata.org/pandas-docs/stable/indexing.html#indexing-view-versus-copy\n",
      "  \n"
     ]
    }
   ],
   "source": [
    "# Encode labels in column 'DifficultCommunicatiom'. \n",
    "df_dropna['DifficultCommunication']= le_1.fit_transform(df_dropna['DifficultCommunication']) "
   ]
  },
  {
   "cell_type": "code",
   "execution_count": 38,
   "metadata": {},
   "outputs": [
    {
     "data": {
      "text/plain": [
       "array(['9:00 AM', '10:00 AM', '8:00 AM', '11:00 AM', '7:00 AM', '2:00 PM',\n",
       "       '10:00 PM', '6:00 AM', 'Noon', '1:00 PM', '3:00 PM', '7:00 PM',\n",
       "       '4:00 AM', '4:00 PM', '6:00 PM', '5:00 AM', '5:00 PM', '8:00 PM',\n",
       "       'Midnight', '1:00 AM', '11:00 PM', '9:00 PM', '2:00 AM', '3:00 AM'],\n",
       "      dtype=object)"
      ]
     },
     "execution_count": 38,
     "metadata": {},
     "output_type": "execute_result"
    }
   ],
   "source": [
    "le_2 = preprocessing.LabelEncoder()\n",
    "df_dropna['WorkStart'].unique()\n"
   ]
  },
  {
   "cell_type": "code",
   "execution_count": 39,
   "metadata": {},
   "outputs": [
    {
     "name": "stderr",
     "output_type": "stream",
     "text": [
      "C:\\Users\\alonslui\\AppData\\Local\\Continuum\\anaconda\\lib\\site-packages\\ipykernel_launcher.py:2: SettingWithCopyWarning: \n",
      "A value is trying to be set on a copy of a slice from a DataFrame.\n",
      "Try using .loc[row_indexer,col_indexer] = value instead\n",
      "\n",
      "See the caveats in the documentation: http://pandas.pydata.org/pandas-docs/stable/indexing.html#indexing-view-versus-copy\n",
      "  \n"
     ]
    }
   ],
   "source": [
    "# Encode labels\n",
    "df_dropna['WorkStart']= le_2.fit_transform(df_dropna['WorkStart'])"
   ]
  },
  {
   "cell_type": "code",
   "execution_count": 40,
   "metadata": {},
   "outputs": [
    {
     "name": "stderr",
     "output_type": "stream",
     "text": [
      "C:\\Users\\alonslui\\AppData\\Local\\Continuum\\anaconda\\lib\\site-packages\\ipykernel_launcher.py:3: SettingWithCopyWarning: \n",
      "A value is trying to be set on a copy of a slice from a DataFrame.\n",
      "Try using .loc[row_indexer,col_indexer] = value instead\n",
      "\n",
      "See the caveats in the documentation: http://pandas.pydata.org/pandas-docs/stable/indexing.html#indexing-view-versus-copy\n",
      "  This is separate from the ipykernel package so we can avoid doing imports until\n"
     ]
    }
   ],
   "source": [
    "le_3 = preprocessing.LabelEncoder()\n",
    "df_dropna['FriendsDevelopers'].unique()\n",
    "df_dropna['FriendsDevelopers']= le_3.fit_transform(df_dropna['FriendsDevelopers'])"
   ]
  },
  {
   "cell_type": "code",
   "execution_count": 41,
   "metadata": {},
   "outputs": [
    {
     "data": {
      "text/html": [
       "<div>\n",
       "<style scoped>\n",
       "    .dataframe tbody tr th:only-of-type {\n",
       "        vertical-align: middle;\n",
       "    }\n",
       "\n",
       "    .dataframe tbody tr th {\n",
       "        vertical-align: top;\n",
       "    }\n",
       "\n",
       "    .dataframe thead th {\n",
       "        text-align: right;\n",
       "    }\n",
       "</style>\n",
       "<table border=\"1\" class=\"dataframe\">\n",
       "  <thead>\n",
       "    <tr style=\"text-align: right;\">\n",
       "      <th></th>\n",
       "      <th>JobSatisfaction</th>\n",
       "      <th>FriendsDevelopers</th>\n",
       "      <th>HoursPerWeek</th>\n",
       "      <th>WorkStart</th>\n",
       "      <th>DifficultCommunication</th>\n",
       "    </tr>\n",
       "  </thead>\n",
       "  <tbody>\n",
       "    <tr>\n",
       "      <th>3</th>\n",
       "      <td>3.0</td>\n",
       "      <td>0</td>\n",
       "      <td>5.0</td>\n",
       "      <td>20</td>\n",
       "      <td>1</td>\n",
       "    </tr>\n",
       "    <tr>\n",
       "      <th>8</th>\n",
       "      <td>6.0</td>\n",
       "      <td>2</td>\n",
       "      <td>2.0</td>\n",
       "      <td>20</td>\n",
       "      <td>1</td>\n",
       "    </tr>\n",
       "    <tr>\n",
       "      <th>15</th>\n",
       "      <td>8.0</td>\n",
       "      <td>1</td>\n",
       "      <td>0.0</td>\n",
       "      <td>0</td>\n",
       "      <td>1</td>\n",
       "    </tr>\n",
       "    <tr>\n",
       "      <th>21</th>\n",
       "      <td>8.0</td>\n",
       "      <td>0</td>\n",
       "      <td>1.0</td>\n",
       "      <td>0</td>\n",
       "      <td>4</td>\n",
       "    </tr>\n",
       "    <tr>\n",
       "      <th>33</th>\n",
       "      <td>5.0</td>\n",
       "      <td>1</td>\n",
       "      <td>2.0</td>\n",
       "      <td>0</td>\n",
       "      <td>1</td>\n",
       "    </tr>\n",
       "  </tbody>\n",
       "</table>\n",
       "</div>"
      ],
      "text/plain": [
       "    JobSatisfaction  FriendsDevelopers  HoursPerWeek  WorkStart  \\\n",
       "3               3.0                  0           5.0         20   \n",
       "8               6.0                  2           2.0         20   \n",
       "15              8.0                  1           0.0          0   \n",
       "21              8.0                  0           1.0          0   \n",
       "33              5.0                  1           2.0          0   \n",
       "\n",
       "    DifficultCommunication  \n",
       "3                        1  \n",
       "8                        1  \n",
       "15                       1  \n",
       "21                       4  \n",
       "33                       1  "
      ]
     },
     "execution_count": 41,
     "metadata": {},
     "output_type": "execute_result"
    }
   ],
   "source": [
    "#sanity check that the dataframe has been transformed to numerical values only:\n",
    "df_dropna.head()"
   ]
  },
  {
   "cell_type": "markdown",
   "metadata": {},
   "source": [
    "Generate the model using the dataframe that has been transformed\n"
   ]
  },
  {
   "cell_type": "code",
   "execution_count": 42,
   "metadata": {},
   "outputs": [],
   "source": [
    "Xle = df_dropna[['FriendsDevelopers', 'HoursPerWeek', 'WorkStart', 'DifficultCommunication']]\n",
    "yle = df_dropna[['JobSatisfaction']]\n",
    "\n",
    "Xle_train, Xle_test, yle_train, yle_test = train_test_split(Xle, yle, test_size = 0.3, random_state = 42)\n",
    "\n",
    "lm_model = LinearRegression(normalize = True)  # Instantiate"
   ]
  },
  {
   "cell_type": "code",
   "execution_count": 43,
   "metadata": {},
   "outputs": [
    {
     "data": {
      "text/plain": [
       "LinearRegression(copy_X=True, fit_intercept=True, n_jobs=1, normalize=True)"
      ]
     },
     "execution_count": 43,
     "metadata": {},
     "output_type": "execute_result"
    }
   ],
   "source": [
    "lm_model.fit(Xle_train, yle_train) #Fit"
   ]
  },
  {
   "cell_type": "code",
   "execution_count": 44,
   "metadata": {},
   "outputs": [],
   "source": [
    "#Predict using your model\n",
    "yle_test_preds = lm_model.predict(Xle_test)\n",
    "yle_train_preds = lm_model.predict(Xle_train)"
   ]
  },
  {
   "cell_type": "code",
   "execution_count": 45,
   "metadata": {},
   "outputs": [],
   "source": [
    "#Score using your model\n",
    "test_score = r2_score(yle_test, yle_test_preds)\n",
    "train_score = r2_score(yle_train, yle_train_preds)"
   ]
  },
  {
   "cell_type": "code",
   "execution_count": 46,
   "metadata": {},
   "outputs": [
    {
     "data": {
      "text/plain": [
       "'The r-squared score for the model using only quantitative variables was 0.0120314155518364 on 1956 values.'"
      ]
     },
     "execution_count": 46,
     "metadata": {},
     "output_type": "execute_result"
    }
   ],
   "source": [
    "\"The r-squared score for the model using only quantitative variables was {} on {} values.\".format(r2_score(yle_test, yle_test_preds), len(yle_test))"
   ]
  },
  {
   "cell_type": "markdown",
   "metadata": {},
   "source": [
    "\n",
    "The coefficient 0.01 is extremelly small, which means that there is no correlation between these variables and the job satisfaction.\n",
    "\n",
    "In the following section I will explore the relation between the job satisfaction and the capability to influence the technical decisions of the company, in other words(\"My opininons seem to count\"). The variables to explore are: InfluenceHardware, InfluenceServers, InfluenceTechStack, InfluenceDeptTech, InfluenceVizTools, InfluenceDatabase, InfluenceCloud, InfluenceConsultants and InfluenceRecruitment."
   ]
  },
  {
   "cell_type": "code",
   "execution_count": 47,
   "metadata": {},
   "outputs": [],
   "source": [
    "#drop any rows with missing values\n",
    "num_vars = df[['JobSatisfaction','InfluenceHardware', 'InfluenceServers', 'InfluenceTechStack','InfluenceVizTools','InfluenceDatabase', 'InfluenceCloud','InfluenceConsultants','InfluenceRecruitment', 'DifficultCommunication']]\n",
    "df_dropna = num_vars.dropna(axis=0)\n",
    "\n",
    "#Drop the rows with missing salaries in field \"DifficultCommunication\"\n",
    "drop_comm_df = num_vars.dropna(subset=['DifficultCommunication'], axis=0)"
   ]
  },
  {
   "cell_type": "code",
   "execution_count": 48,
   "metadata": {},
   "outputs": [
    {
     "data": {
      "text/html": [
       "<div>\n",
       "<style scoped>\n",
       "    .dataframe tbody tr th:only-of-type {\n",
       "        vertical-align: middle;\n",
       "    }\n",
       "\n",
       "    .dataframe tbody tr th {\n",
       "        vertical-align: top;\n",
       "    }\n",
       "\n",
       "    .dataframe thead th {\n",
       "        text-align: right;\n",
       "    }\n",
       "</style>\n",
       "<table border=\"1\" class=\"dataframe\">\n",
       "  <thead>\n",
       "    <tr style=\"text-align: right;\">\n",
       "      <th></th>\n",
       "      <th>JobSatisfaction</th>\n",
       "      <th>InfluenceHardware</th>\n",
       "      <th>InfluenceServers</th>\n",
       "      <th>InfluenceTechStack</th>\n",
       "      <th>InfluenceVizTools</th>\n",
       "      <th>InfluenceDatabase</th>\n",
       "      <th>InfluenceCloud</th>\n",
       "      <th>InfluenceConsultants</th>\n",
       "      <th>InfluenceRecruitment</th>\n",
       "      <th>DifficultCommunication</th>\n",
       "    </tr>\n",
       "  </thead>\n",
       "  <tbody>\n",
       "    <tr>\n",
       "      <th>1</th>\n",
       "      <td>NaN</td>\n",
       "      <td>No influence at all</td>\n",
       "      <td>No influence at all</td>\n",
       "      <td>No influence at all</td>\n",
       "      <td>No influence at all</td>\n",
       "      <td>No influence at all</td>\n",
       "      <td>No influence at all</td>\n",
       "      <td>No influence at all</td>\n",
       "      <td>No influence at all</td>\n",
       "      <td>Disagree</td>\n",
       "    </tr>\n",
       "    <tr>\n",
       "      <th>2</th>\n",
       "      <td>9.0</td>\n",
       "      <td>Some influence</td>\n",
       "      <td>Some influence</td>\n",
       "      <td>Some influence</td>\n",
       "      <td>Some influence</td>\n",
       "      <td>Some influence</td>\n",
       "      <td>Some influence</td>\n",
       "      <td>Some influence</td>\n",
       "      <td>Some influence</td>\n",
       "      <td>Disagree</td>\n",
       "    </tr>\n",
       "    <tr>\n",
       "      <th>3</th>\n",
       "      <td>3.0</td>\n",
       "      <td>NaN</td>\n",
       "      <td>NaN</td>\n",
       "      <td>NaN</td>\n",
       "      <td>NaN</td>\n",
       "      <td>NaN</td>\n",
       "      <td>NaN</td>\n",
       "      <td>NaN</td>\n",
       "      <td>NaN</td>\n",
       "      <td>Disagree</td>\n",
       "    </tr>\n",
       "    <tr>\n",
       "      <th>7</th>\n",
       "      <td>7.0</td>\n",
       "      <td>No influence at all</td>\n",
       "      <td>Not much influence</td>\n",
       "      <td>Some influence</td>\n",
       "      <td>Not much influence</td>\n",
       "      <td>No influence at all</td>\n",
       "      <td>Not much influence</td>\n",
       "      <td>No influence at all</td>\n",
       "      <td>Not much influence</td>\n",
       "      <td>Somewhat agree</td>\n",
       "    </tr>\n",
       "    <tr>\n",
       "      <th>8</th>\n",
       "      <td>6.0</td>\n",
       "      <td>No influence at all</td>\n",
       "      <td>No influence at all</td>\n",
       "      <td>Some influence</td>\n",
       "      <td>A lot of influence</td>\n",
       "      <td>No influence at all</td>\n",
       "      <td>No influence at all</td>\n",
       "      <td>Some influence</td>\n",
       "      <td>No influence at all</td>\n",
       "      <td>Disagree</td>\n",
       "    </tr>\n",
       "  </tbody>\n",
       "</table>\n",
       "</div>"
      ],
      "text/plain": [
       "   JobSatisfaction    InfluenceHardware     InfluenceServers  \\\n",
       "1              NaN  No influence at all  No influence at all   \n",
       "2              9.0       Some influence       Some influence   \n",
       "3              3.0                  NaN                  NaN   \n",
       "7              7.0  No influence at all   Not much influence   \n",
       "8              6.0  No influence at all  No influence at all   \n",
       "\n",
       "    InfluenceTechStack    InfluenceVizTools    InfluenceDatabase  \\\n",
       "1  No influence at all  No influence at all  No influence at all   \n",
       "2       Some influence       Some influence       Some influence   \n",
       "3                  NaN                  NaN                  NaN   \n",
       "7       Some influence   Not much influence  No influence at all   \n",
       "8       Some influence   A lot of influence  No influence at all   \n",
       "\n",
       "        InfluenceCloud InfluenceConsultants InfluenceRecruitment  \\\n",
       "1  No influence at all  No influence at all  No influence at all   \n",
       "2       Some influence       Some influence       Some influence   \n",
       "3                  NaN                  NaN                  NaN   \n",
       "7   Not much influence  No influence at all   Not much influence   \n",
       "8  No influence at all       Some influence  No influence at all   \n",
       "\n",
       "  DifficultCommunication  \n",
       "1               Disagree  \n",
       "2               Disagree  \n",
       "3               Disagree  \n",
       "7         Somewhat agree  \n",
       "8               Disagree  "
      ]
     },
     "execution_count": 48,
     "metadata": {},
     "output_type": "execute_result"
    }
   ],
   "source": [
    "# test how does it look the data dropping NA's in one columns:\n",
    "drop_comm_df.head()"
   ]
  },
  {
   "cell_type": "code",
   "execution_count": 49,
   "metadata": {},
   "outputs": [
    {
     "data": {
      "text/html": [
       "<div>\n",
       "<style scoped>\n",
       "    .dataframe tbody tr th:only-of-type {\n",
       "        vertical-align: middle;\n",
       "    }\n",
       "\n",
       "    .dataframe tbody tr th {\n",
       "        vertical-align: top;\n",
       "    }\n",
       "\n",
       "    .dataframe thead th {\n",
       "        text-align: right;\n",
       "    }\n",
       "</style>\n",
       "<table border=\"1\" class=\"dataframe\">\n",
       "  <thead>\n",
       "    <tr style=\"text-align: right;\">\n",
       "      <th></th>\n",
       "      <th>JobSatisfaction</th>\n",
       "      <th>InfluenceHardware</th>\n",
       "      <th>InfluenceServers</th>\n",
       "      <th>InfluenceTechStack</th>\n",
       "      <th>InfluenceVizTools</th>\n",
       "      <th>InfluenceDatabase</th>\n",
       "      <th>InfluenceCloud</th>\n",
       "      <th>InfluenceConsultants</th>\n",
       "      <th>InfluenceRecruitment</th>\n",
       "      <th>DifficultCommunication</th>\n",
       "    </tr>\n",
       "  </thead>\n",
       "  <tbody>\n",
       "    <tr>\n",
       "      <th>2</th>\n",
       "      <td>9.0</td>\n",
       "      <td>Some influence</td>\n",
       "      <td>Some influence</td>\n",
       "      <td>Some influence</td>\n",
       "      <td>Some influence</td>\n",
       "      <td>Some influence</td>\n",
       "      <td>Some influence</td>\n",
       "      <td>Some influence</td>\n",
       "      <td>Some influence</td>\n",
       "      <td>Disagree</td>\n",
       "    </tr>\n",
       "    <tr>\n",
       "      <th>7</th>\n",
       "      <td>7.0</td>\n",
       "      <td>No influence at all</td>\n",
       "      <td>Not much influence</td>\n",
       "      <td>Some influence</td>\n",
       "      <td>Not much influence</td>\n",
       "      <td>No influence at all</td>\n",
       "      <td>Not much influence</td>\n",
       "      <td>No influence at all</td>\n",
       "      <td>Not much influence</td>\n",
       "      <td>Somewhat agree</td>\n",
       "    </tr>\n",
       "    <tr>\n",
       "      <th>8</th>\n",
       "      <td>6.0</td>\n",
       "      <td>No influence at all</td>\n",
       "      <td>No influence at all</td>\n",
       "      <td>Some influence</td>\n",
       "      <td>A lot of influence</td>\n",
       "      <td>No influence at all</td>\n",
       "      <td>No influence at all</td>\n",
       "      <td>Some influence</td>\n",
       "      <td>No influence at all</td>\n",
       "      <td>Disagree</td>\n",
       "    </tr>\n",
       "    <tr>\n",
       "      <th>13</th>\n",
       "      <td>6.0</td>\n",
       "      <td>Some influence</td>\n",
       "      <td>I am the final decision maker</td>\n",
       "      <td>I am the final decision maker</td>\n",
       "      <td>A lot of influence</td>\n",
       "      <td>I am the final decision maker</td>\n",
       "      <td>I am the final decision maker</td>\n",
       "      <td>Some influence</td>\n",
       "      <td>A lot of influence</td>\n",
       "      <td>Disagree</td>\n",
       "    </tr>\n",
       "    <tr>\n",
       "      <th>14</th>\n",
       "      <td>8.0</td>\n",
       "      <td>Not much influence</td>\n",
       "      <td>Not much influence</td>\n",
       "      <td>No influence at all</td>\n",
       "      <td>No influence at all</td>\n",
       "      <td>No influence at all</td>\n",
       "      <td>No influence at all</td>\n",
       "      <td>Not much influence</td>\n",
       "      <td>No influence at all</td>\n",
       "      <td>Disagree</td>\n",
       "    </tr>\n",
       "  </tbody>\n",
       "</table>\n",
       "</div>"
      ],
      "text/plain": [
       "    JobSatisfaction    InfluenceHardware               InfluenceServers  \\\n",
       "2               9.0       Some influence                 Some influence   \n",
       "7               7.0  No influence at all             Not much influence   \n",
       "8               6.0  No influence at all            No influence at all   \n",
       "13              6.0       Some influence  I am the final decision maker   \n",
       "14              8.0   Not much influence             Not much influence   \n",
       "\n",
       "               InfluenceTechStack    InfluenceVizTools  \\\n",
       "2                  Some influence       Some influence   \n",
       "7                  Some influence   Not much influence   \n",
       "8                  Some influence   A lot of influence   \n",
       "13  I am the final decision maker   A lot of influence   \n",
       "14            No influence at all  No influence at all   \n",
       "\n",
       "                InfluenceDatabase                 InfluenceCloud  \\\n",
       "2                  Some influence                 Some influence   \n",
       "7             No influence at all             Not much influence   \n",
       "8             No influence at all            No influence at all   \n",
       "13  I am the final decision maker  I am the final decision maker   \n",
       "14            No influence at all            No influence at all   \n",
       "\n",
       "   InfluenceConsultants InfluenceRecruitment DifficultCommunication  \n",
       "2        Some influence       Some influence               Disagree  \n",
       "7   No influence at all   Not much influence         Somewhat agree  \n",
       "8        Some influence  No influence at all               Disagree  \n",
       "13       Some influence   A lot of influence               Disagree  \n",
       "14   Not much influence  No influence at all               Disagree  "
      ]
     },
     "execution_count": 49,
     "metadata": {},
     "output_type": "execute_result"
    }
   ],
   "source": [
    "#dataframe with the variables of interest that does not have NA included:\n",
    "df_dropna.head()"
   ]
  },
  {
   "cell_type": "code",
   "execution_count": 50,
   "metadata": {},
   "outputs": [
    {
     "data": {
      "text/plain": [
       "array(['Disagree', 'Somewhat agree', 'Strongly disagree', 'Agree',\n",
       "       'Strongly agree'], dtype=object)"
      ]
     },
     "execution_count": 50,
     "metadata": {},
     "output_type": "execute_result"
    }
   ],
   "source": [
    "#identify the unique variables contained in the field \"Difficult Communication\"\n",
    "df_dropna['DifficultCommunication'].unique() "
   ]
  },
  {
   "cell_type": "code",
   "execution_count": 51,
   "metadata": {},
   "outputs": [],
   "source": [
    "#start label processing to label encode and transform to numerical variables\n",
    "\n",
    "from sklearn import preprocessing\n",
    "le_1 = preprocessing.LabelEncoder()"
   ]
  },
  {
   "cell_type": "code",
   "execution_count": 52,
   "metadata": {},
   "outputs": [
    {
     "name": "stderr",
     "output_type": "stream",
     "text": [
      "C:\\Users\\alonslui\\AppData\\Local\\Continuum\\anaconda\\lib\\site-packages\\ipykernel_launcher.py:2: SettingWithCopyWarning: \n",
      "A value is trying to be set on a copy of a slice from a DataFrame.\n",
      "Try using .loc[row_indexer,col_indexer] = value instead\n",
      "\n",
      "See the caveats in the documentation: http://pandas.pydata.org/pandas-docs/stable/indexing.html#indexing-view-versus-copy\n",
      "  \n"
     ]
    }
   ],
   "source": [
    "# Encode labels in column 'DifficultCommunicatiom'. \n",
    "df_dropna['DifficultCommunication']= le_1.fit_transform(df_dropna['DifficultCommunication']) "
   ]
  },
  {
   "cell_type": "code",
   "execution_count": 53,
   "metadata": {},
   "outputs": [
    {
     "data": {
      "text/plain": [
       "array([1, 2, 4, 0, 3], dtype=int64)"
      ]
     },
     "execution_count": 53,
     "metadata": {},
     "output_type": "execute_result"
    }
   ],
   "source": [
    "#sanity check to verify that the transformation from labels to numbers took place:\n",
    "df_dropna['DifficultCommunication'].unique() "
   ]
  },
  {
   "cell_type": "code",
   "execution_count": 54,
   "metadata": {},
   "outputs": [
    {
     "data": {
      "text/html": [
       "<div>\n",
       "<style scoped>\n",
       "    .dataframe tbody tr th:only-of-type {\n",
       "        vertical-align: middle;\n",
       "    }\n",
       "\n",
       "    .dataframe tbody tr th {\n",
       "        vertical-align: top;\n",
       "    }\n",
       "\n",
       "    .dataframe thead th {\n",
       "        text-align: right;\n",
       "    }\n",
       "</style>\n",
       "<table border=\"1\" class=\"dataframe\">\n",
       "  <thead>\n",
       "    <tr style=\"text-align: right;\">\n",
       "      <th></th>\n",
       "      <th>JobSatisfaction</th>\n",
       "      <th>InfluenceHardware</th>\n",
       "      <th>InfluenceServers</th>\n",
       "      <th>InfluenceTechStack</th>\n",
       "      <th>InfluenceVizTools</th>\n",
       "      <th>InfluenceDatabase</th>\n",
       "      <th>InfluenceCloud</th>\n",
       "      <th>InfluenceConsultants</th>\n",
       "      <th>InfluenceRecruitment</th>\n",
       "      <th>DifficultCommunication</th>\n",
       "    </tr>\n",
       "  </thead>\n",
       "  <tbody>\n",
       "    <tr>\n",
       "      <th>2</th>\n",
       "      <td>9.0</td>\n",
       "      <td>Some influence</td>\n",
       "      <td>Some influence</td>\n",
       "      <td>Some influence</td>\n",
       "      <td>Some influence</td>\n",
       "      <td>Some influence</td>\n",
       "      <td>Some influence</td>\n",
       "      <td>Some influence</td>\n",
       "      <td>Some influence</td>\n",
       "      <td>1</td>\n",
       "    </tr>\n",
       "    <tr>\n",
       "      <th>7</th>\n",
       "      <td>7.0</td>\n",
       "      <td>No influence at all</td>\n",
       "      <td>Not much influence</td>\n",
       "      <td>Some influence</td>\n",
       "      <td>Not much influence</td>\n",
       "      <td>No influence at all</td>\n",
       "      <td>Not much influence</td>\n",
       "      <td>No influence at all</td>\n",
       "      <td>Not much influence</td>\n",
       "      <td>2</td>\n",
       "    </tr>\n",
       "    <tr>\n",
       "      <th>8</th>\n",
       "      <td>6.0</td>\n",
       "      <td>No influence at all</td>\n",
       "      <td>No influence at all</td>\n",
       "      <td>Some influence</td>\n",
       "      <td>A lot of influence</td>\n",
       "      <td>No influence at all</td>\n",
       "      <td>No influence at all</td>\n",
       "      <td>Some influence</td>\n",
       "      <td>No influence at all</td>\n",
       "      <td>1</td>\n",
       "    </tr>\n",
       "    <tr>\n",
       "      <th>13</th>\n",
       "      <td>6.0</td>\n",
       "      <td>Some influence</td>\n",
       "      <td>I am the final decision maker</td>\n",
       "      <td>I am the final decision maker</td>\n",
       "      <td>A lot of influence</td>\n",
       "      <td>I am the final decision maker</td>\n",
       "      <td>I am the final decision maker</td>\n",
       "      <td>Some influence</td>\n",
       "      <td>A lot of influence</td>\n",
       "      <td>1</td>\n",
       "    </tr>\n",
       "    <tr>\n",
       "      <th>14</th>\n",
       "      <td>8.0</td>\n",
       "      <td>Not much influence</td>\n",
       "      <td>Not much influence</td>\n",
       "      <td>No influence at all</td>\n",
       "      <td>No influence at all</td>\n",
       "      <td>No influence at all</td>\n",
       "      <td>No influence at all</td>\n",
       "      <td>Not much influence</td>\n",
       "      <td>No influence at all</td>\n",
       "      <td>1</td>\n",
       "    </tr>\n",
       "  </tbody>\n",
       "</table>\n",
       "</div>"
      ],
      "text/plain": [
       "    JobSatisfaction    InfluenceHardware               InfluenceServers  \\\n",
       "2               9.0       Some influence                 Some influence   \n",
       "7               7.0  No influence at all             Not much influence   \n",
       "8               6.0  No influence at all            No influence at all   \n",
       "13              6.0       Some influence  I am the final decision maker   \n",
       "14              8.0   Not much influence             Not much influence   \n",
       "\n",
       "               InfluenceTechStack    InfluenceVizTools  \\\n",
       "2                  Some influence       Some influence   \n",
       "7                  Some influence   Not much influence   \n",
       "8                  Some influence   A lot of influence   \n",
       "13  I am the final decision maker   A lot of influence   \n",
       "14            No influence at all  No influence at all   \n",
       "\n",
       "                InfluenceDatabase                 InfluenceCloud  \\\n",
       "2                  Some influence                 Some influence   \n",
       "7             No influence at all             Not much influence   \n",
       "8             No influence at all            No influence at all   \n",
       "13  I am the final decision maker  I am the final decision maker   \n",
       "14            No influence at all            No influence at all   \n",
       "\n",
       "   InfluenceConsultants InfluenceRecruitment  DifficultCommunication  \n",
       "2        Some influence       Some influence                       1  \n",
       "7   No influence at all   Not much influence                       2  \n",
       "8        Some influence  No influence at all                       1  \n",
       "13       Some influence   A lot of influence                       1  \n",
       "14   Not much influence  No influence at all                       1  "
      ]
     },
     "execution_count": 54,
     "metadata": {},
     "output_type": "execute_result"
    }
   ],
   "source": [
    "#sanity check to verify that the transformation from labels to numbers took place, \n",
    "#using the dataframe with variables of interest\n",
    "\n",
    "df_dropna.head()"
   ]
  },
  {
   "attachments": {},
   "cell_type": "markdown",
   "metadata": {},
   "source": [
    "Repeat this process for the other variables with labels: \n",
    "InfluenceHardware, \n",
    "InfluenceServers, \n",
    "InfluenceTechStack, \n",
    "InfluenceDeptTech, \n",
    "InfluenceVizTools, \n",
    "InfluenceDatabase, \n",
    "InfluenceCloud, \n",
    "InfluenceConsultants, \n",
    "InfluenceRecruitment"
   ]
  },
  {
   "cell_type": "code",
   "execution_count": 55,
   "metadata": {},
   "outputs": [
    {
     "data": {
      "text/plain": [
       "array(['Some influence', 'No influence at all', 'Not much influence',\n",
       "       'A lot of influence', 'I am the final decision maker'],\n",
       "      dtype=object)"
      ]
     },
     "execution_count": 55,
     "metadata": {},
     "output_type": "execute_result"
    }
   ],
   "source": [
    "le_2 = preprocessing.LabelEncoder()\n",
    "df_dropna['InfluenceHardware'].unique()"
   ]
  },
  {
   "cell_type": "code",
   "execution_count": 56,
   "metadata": {},
   "outputs": [
    {
     "name": "stderr",
     "output_type": "stream",
     "text": [
      "C:\\Users\\alonslui\\AppData\\Local\\Continuum\\anaconda\\lib\\site-packages\\ipykernel_launcher.py:1: SettingWithCopyWarning: \n",
      "A value is trying to be set on a copy of a slice from a DataFrame.\n",
      "Try using .loc[row_indexer,col_indexer] = value instead\n",
      "\n",
      "See the caveats in the documentation: http://pandas.pydata.org/pandas-docs/stable/indexing.html#indexing-view-versus-copy\n",
      "  \"\"\"Entry point for launching an IPython kernel.\n"
     ]
    }
   ],
   "source": [
    "df_dropna['InfluenceHardware']= le_2.fit_transform(df_dropna['InfluenceHardware'])"
   ]
  },
  {
   "cell_type": "code",
   "execution_count": 57,
   "metadata": {},
   "outputs": [
    {
     "data": {
      "text/plain": [
       "array([4, 2, 3, 0, 1], dtype=int64)"
      ]
     },
     "execution_count": 57,
     "metadata": {},
     "output_type": "execute_result"
    }
   ],
   "source": [
    "#check that the field has changed to numerical values:\n",
    "df_dropna['InfluenceHardware'].unique() "
   ]
  },
  {
   "cell_type": "code",
   "execution_count": 58,
   "metadata": {},
   "outputs": [
    {
     "data": {
      "text/plain": [
       "array(['Some influence', 'Not much influence', 'No influence at all',\n",
       "       'I am the final decision maker', 'A lot of influence'],\n",
       "      dtype=object)"
      ]
     },
     "execution_count": 58,
     "metadata": {},
     "output_type": "execute_result"
    }
   ],
   "source": [
    "le_3 = preprocessing.LabelEncoder()\n",
    "df_dropna['InfluenceServers'].unique()"
   ]
  },
  {
   "cell_type": "code",
   "execution_count": 59,
   "metadata": {},
   "outputs": [
    {
     "name": "stderr",
     "output_type": "stream",
     "text": [
      "C:\\Users\\alonslui\\AppData\\Local\\Continuum\\anaconda\\lib\\site-packages\\ipykernel_launcher.py:1: SettingWithCopyWarning: \n",
      "A value is trying to be set on a copy of a slice from a DataFrame.\n",
      "Try using .loc[row_indexer,col_indexer] = value instead\n",
      "\n",
      "See the caveats in the documentation: http://pandas.pydata.org/pandas-docs/stable/indexing.html#indexing-view-versus-copy\n",
      "  \"\"\"Entry point for launching an IPython kernel.\n"
     ]
    }
   ],
   "source": [
    "df_dropna['InfluenceServers']= le_3.fit_transform(df_dropna['InfluenceServers'])"
   ]
  },
  {
   "cell_type": "code",
   "execution_count": 60,
   "metadata": {},
   "outputs": [
    {
     "data": {
      "text/plain": [
       "array([4, 3, 2, 1, 0], dtype=int64)"
      ]
     },
     "execution_count": 60,
     "metadata": {},
     "output_type": "execute_result"
    }
   ],
   "source": [
    "df_dropna['InfluenceServers'].unique()"
   ]
  },
  {
   "cell_type": "code",
   "execution_count": 61,
   "metadata": {},
   "outputs": [
    {
     "data": {
      "text/html": [
       "<div>\n",
       "<style scoped>\n",
       "    .dataframe tbody tr th:only-of-type {\n",
       "        vertical-align: middle;\n",
       "    }\n",
       "\n",
       "    .dataframe tbody tr th {\n",
       "        vertical-align: top;\n",
       "    }\n",
       "\n",
       "    .dataframe thead th {\n",
       "        text-align: right;\n",
       "    }\n",
       "</style>\n",
       "<table border=\"1\" class=\"dataframe\">\n",
       "  <thead>\n",
       "    <tr style=\"text-align: right;\">\n",
       "      <th></th>\n",
       "      <th>JobSatisfaction</th>\n",
       "      <th>InfluenceHardware</th>\n",
       "      <th>InfluenceServers</th>\n",
       "      <th>InfluenceTechStack</th>\n",
       "      <th>InfluenceVizTools</th>\n",
       "      <th>InfluenceDatabase</th>\n",
       "      <th>InfluenceCloud</th>\n",
       "      <th>InfluenceConsultants</th>\n",
       "      <th>InfluenceRecruitment</th>\n",
       "      <th>DifficultCommunication</th>\n",
       "    </tr>\n",
       "  </thead>\n",
       "  <tbody>\n",
       "    <tr>\n",
       "      <th>2</th>\n",
       "      <td>9.0</td>\n",
       "      <td>4</td>\n",
       "      <td>4</td>\n",
       "      <td>Some influence</td>\n",
       "      <td>Some influence</td>\n",
       "      <td>Some influence</td>\n",
       "      <td>Some influence</td>\n",
       "      <td>Some influence</td>\n",
       "      <td>Some influence</td>\n",
       "      <td>1</td>\n",
       "    </tr>\n",
       "    <tr>\n",
       "      <th>7</th>\n",
       "      <td>7.0</td>\n",
       "      <td>2</td>\n",
       "      <td>3</td>\n",
       "      <td>Some influence</td>\n",
       "      <td>Not much influence</td>\n",
       "      <td>No influence at all</td>\n",
       "      <td>Not much influence</td>\n",
       "      <td>No influence at all</td>\n",
       "      <td>Not much influence</td>\n",
       "      <td>2</td>\n",
       "    </tr>\n",
       "    <tr>\n",
       "      <th>8</th>\n",
       "      <td>6.0</td>\n",
       "      <td>2</td>\n",
       "      <td>2</td>\n",
       "      <td>Some influence</td>\n",
       "      <td>A lot of influence</td>\n",
       "      <td>No influence at all</td>\n",
       "      <td>No influence at all</td>\n",
       "      <td>Some influence</td>\n",
       "      <td>No influence at all</td>\n",
       "      <td>1</td>\n",
       "    </tr>\n",
       "    <tr>\n",
       "      <th>13</th>\n",
       "      <td>6.0</td>\n",
       "      <td>4</td>\n",
       "      <td>1</td>\n",
       "      <td>I am the final decision maker</td>\n",
       "      <td>A lot of influence</td>\n",
       "      <td>I am the final decision maker</td>\n",
       "      <td>I am the final decision maker</td>\n",
       "      <td>Some influence</td>\n",
       "      <td>A lot of influence</td>\n",
       "      <td>1</td>\n",
       "    </tr>\n",
       "    <tr>\n",
       "      <th>14</th>\n",
       "      <td>8.0</td>\n",
       "      <td>3</td>\n",
       "      <td>3</td>\n",
       "      <td>No influence at all</td>\n",
       "      <td>No influence at all</td>\n",
       "      <td>No influence at all</td>\n",
       "      <td>No influence at all</td>\n",
       "      <td>Not much influence</td>\n",
       "      <td>No influence at all</td>\n",
       "      <td>1</td>\n",
       "    </tr>\n",
       "  </tbody>\n",
       "</table>\n",
       "</div>"
      ],
      "text/plain": [
       "    JobSatisfaction  InfluenceHardware  InfluenceServers  \\\n",
       "2               9.0                  4                 4   \n",
       "7               7.0                  2                 3   \n",
       "8               6.0                  2                 2   \n",
       "13              6.0                  4                 1   \n",
       "14              8.0                  3                 3   \n",
       "\n",
       "               InfluenceTechStack    InfluenceVizTools  \\\n",
       "2                  Some influence       Some influence   \n",
       "7                  Some influence   Not much influence   \n",
       "8                  Some influence   A lot of influence   \n",
       "13  I am the final decision maker   A lot of influence   \n",
       "14            No influence at all  No influence at all   \n",
       "\n",
       "                InfluenceDatabase                 InfluenceCloud  \\\n",
       "2                  Some influence                 Some influence   \n",
       "7             No influence at all             Not much influence   \n",
       "8             No influence at all            No influence at all   \n",
       "13  I am the final decision maker  I am the final decision maker   \n",
       "14            No influence at all            No influence at all   \n",
       "\n",
       "   InfluenceConsultants InfluenceRecruitment  DifficultCommunication  \n",
       "2        Some influence       Some influence                       1  \n",
       "7   No influence at all   Not much influence                       2  \n",
       "8        Some influence  No influence at all                       1  \n",
       "13       Some influence   A lot of influence                       1  \n",
       "14   Not much influence  No influence at all                       1  "
      ]
     },
     "execution_count": 61,
     "metadata": {},
     "output_type": "execute_result"
    }
   ],
   "source": [
    "#sanity check that the dataframe continue its transformation to numerical values only:\n",
    "df_dropna.head()"
   ]
  },
  {
   "cell_type": "code",
   "execution_count": 62,
   "metadata": {},
   "outputs": [
    {
     "name": "stderr",
     "output_type": "stream",
     "text": [
      "C:\\Users\\alonslui\\AppData\\Local\\Continuum\\anaconda\\lib\\site-packages\\ipykernel_launcher.py:4: SettingWithCopyWarning: \n",
      "A value is trying to be set on a copy of a slice from a DataFrame.\n",
      "Try using .loc[row_indexer,col_indexer] = value instead\n",
      "\n",
      "See the caveats in the documentation: http://pandas.pydata.org/pandas-docs/stable/indexing.html#indexing-view-versus-copy\n",
      "  after removing the cwd from sys.path.\n"
     ]
    },
    {
     "data": {
      "text/plain": [
       "array([4, 1, 2, 3, 0], dtype=int64)"
      ]
     },
     "execution_count": 62,
     "metadata": {},
     "output_type": "execute_result"
    }
   ],
   "source": [
    "le_4 = preprocessing.LabelEncoder()\n",
    "df_dropna['InfluenceTechStack'].unique()\n",
    "#check that the field has changed to numerical values:\n",
    "df_dropna['InfluenceTechStack']= le_4.fit_transform(df_dropna['InfluenceTechStack'])\n",
    "df_dropna['InfluenceTechStack'].unique()"
   ]
  },
  {
   "cell_type": "code",
   "execution_count": 63,
   "metadata": {},
   "outputs": [
    {
     "name": "stderr",
     "output_type": "stream",
     "text": [
      "C:\\Users\\alonslui\\AppData\\Local\\Continuum\\anaconda\\lib\\site-packages\\ipykernel_launcher.py:4: SettingWithCopyWarning: \n",
      "A value is trying to be set on a copy of a slice from a DataFrame.\n",
      "Try using .loc[row_indexer,col_indexer] = value instead\n",
      "\n",
      "See the caveats in the documentation: http://pandas.pydata.org/pandas-docs/stable/indexing.html#indexing-view-versus-copy\n",
      "  after removing the cwd from sys.path.\n"
     ]
    },
    {
     "data": {
      "text/plain": [
       "array([4, 2, 1, 3, 0], dtype=int64)"
      ]
     },
     "execution_count": 63,
     "metadata": {},
     "output_type": "execute_result"
    }
   ],
   "source": [
    "le_5 = preprocessing.LabelEncoder()\n",
    "df_dropna['InfluenceDatabase'].unique()\n",
    "#check that the field has changed to numerical values:\n",
    "df_dropna['InfluenceDatabase']= le_5.fit_transform(df_dropna['InfluenceDatabase'])\n",
    "df_dropna['InfluenceDatabase'].unique()"
   ]
  },
  {
   "cell_type": "code",
   "execution_count": 64,
   "metadata": {},
   "outputs": [
    {
     "name": "stderr",
     "output_type": "stream",
     "text": [
      "C:\\Users\\alonslui\\AppData\\Local\\Continuum\\anaconda\\lib\\site-packages\\ipykernel_launcher.py:4: SettingWithCopyWarning: \n",
      "A value is trying to be set on a copy of a slice from a DataFrame.\n",
      "Try using .loc[row_indexer,col_indexer] = value instead\n",
      "\n",
      "See the caveats in the documentation: http://pandas.pydata.org/pandas-docs/stable/indexing.html#indexing-view-versus-copy\n",
      "  after removing the cwd from sys.path.\n"
     ]
    },
    {
     "data": {
      "text/plain": [
       "array([4, 3, 2, 1, 0], dtype=int64)"
      ]
     },
     "execution_count": 64,
     "metadata": {},
     "output_type": "execute_result"
    }
   ],
   "source": [
    "le_6 = preprocessing.LabelEncoder()\n",
    "df_dropna['InfluenceCloud'].unique()\n",
    "#check that the field has changed to numerical values:\n",
    "df_dropna['InfluenceCloud']= le_6.fit_transform(df_dropna['InfluenceCloud'])\n",
    "df_dropna['InfluenceCloud'].unique()"
   ]
  },
  {
   "cell_type": "code",
   "execution_count": 65,
   "metadata": {},
   "outputs": [
    {
     "name": "stderr",
     "output_type": "stream",
     "text": [
      "C:\\Users\\alonslui\\AppData\\Local\\Continuum\\anaconda\\lib\\site-packages\\ipykernel_launcher.py:4: SettingWithCopyWarning: \n",
      "A value is trying to be set on a copy of a slice from a DataFrame.\n",
      "Try using .loc[row_indexer,col_indexer] = value instead\n",
      "\n",
      "See the caveats in the documentation: http://pandas.pydata.org/pandas-docs/stable/indexing.html#indexing-view-versus-copy\n",
      "  after removing the cwd from sys.path.\n"
     ]
    },
    {
     "data": {
      "text/plain": [
       "array([4, 2, 3, 1, 0], dtype=int64)"
      ]
     },
     "execution_count": 65,
     "metadata": {},
     "output_type": "execute_result"
    }
   ],
   "source": [
    "le_7 = preprocessing.LabelEncoder()\n",
    "df_dropna['InfluenceConsultants'].unique()\n",
    "#check that the field has changed to numerical values:\n",
    "df_dropna['InfluenceConsultants']= le_7.fit_transform(df_dropna['InfluenceConsultants'])\n",
    "df_dropna['InfluenceConsultants'].unique()"
   ]
  },
  {
   "cell_type": "code",
   "execution_count": 66,
   "metadata": {},
   "outputs": [
    {
     "name": "stderr",
     "output_type": "stream",
     "text": [
      "C:\\Users\\alonslui\\AppData\\Local\\Continuum\\anaconda\\lib\\site-packages\\ipykernel_launcher.py:4: SettingWithCopyWarning: \n",
      "A value is trying to be set on a copy of a slice from a DataFrame.\n",
      "Try using .loc[row_indexer,col_indexer] = value instead\n",
      "\n",
      "See the caveats in the documentation: http://pandas.pydata.org/pandas-docs/stable/indexing.html#indexing-view-versus-copy\n",
      "  after removing the cwd from sys.path.\n"
     ]
    },
    {
     "data": {
      "text/plain": [
       "array([4, 3, 2, 0, 1], dtype=int64)"
      ]
     },
     "execution_count": 66,
     "metadata": {},
     "output_type": "execute_result"
    }
   ],
   "source": [
    "le_8 = preprocessing.LabelEncoder()\n",
    "df_dropna['InfluenceRecruitment'].unique()\n",
    "#check that the field has changed to numerical values:\n",
    "df_dropna['InfluenceRecruitment']= le_8.fit_transform(df_dropna['InfluenceRecruitment'])\n",
    "df_dropna['InfluenceRecruitment'].unique()"
   ]
  },
  {
   "cell_type": "code",
   "execution_count": 67,
   "metadata": {},
   "outputs": [
    {
     "name": "stderr",
     "output_type": "stream",
     "text": [
      "C:\\Users\\alonslui\\AppData\\Local\\Continuum\\anaconda\\lib\\site-packages\\ipykernel_launcher.py:4: SettingWithCopyWarning: \n",
      "A value is trying to be set on a copy of a slice from a DataFrame.\n",
      "Try using .loc[row_indexer,col_indexer] = value instead\n",
      "\n",
      "See the caveats in the documentation: http://pandas.pydata.org/pandas-docs/stable/indexing.html#indexing-view-versus-copy\n",
      "  after removing the cwd from sys.path.\n"
     ]
    },
    {
     "data": {
      "text/plain": [
       "array([4, 3, 0, 2, 1], dtype=int64)"
      ]
     },
     "execution_count": 67,
     "metadata": {},
     "output_type": "execute_result"
    }
   ],
   "source": [
    "le_9 = preprocessing.LabelEncoder()\n",
    "df_dropna['InfluenceVizTools'].unique()\n",
    "#check that the field has changed to numerical values:\n",
    "df_dropna['InfluenceVizTools']= le_9.fit_transform(df_dropna['InfluenceVizTools'])\n",
    "df_dropna['InfluenceVizTools'].unique()"
   ]
  },
  {
   "cell_type": "code",
   "execution_count": 68,
   "metadata": {},
   "outputs": [
    {
     "data": {
      "text/html": [
       "<div>\n",
       "<style scoped>\n",
       "    .dataframe tbody tr th:only-of-type {\n",
       "        vertical-align: middle;\n",
       "    }\n",
       "\n",
       "    .dataframe tbody tr th {\n",
       "        vertical-align: top;\n",
       "    }\n",
       "\n",
       "    .dataframe thead th {\n",
       "        text-align: right;\n",
       "    }\n",
       "</style>\n",
       "<table border=\"1\" class=\"dataframe\">\n",
       "  <thead>\n",
       "    <tr style=\"text-align: right;\">\n",
       "      <th></th>\n",
       "      <th>JobSatisfaction</th>\n",
       "      <th>InfluenceHardware</th>\n",
       "      <th>InfluenceServers</th>\n",
       "      <th>InfluenceTechStack</th>\n",
       "      <th>InfluenceVizTools</th>\n",
       "      <th>InfluenceDatabase</th>\n",
       "      <th>InfluenceCloud</th>\n",
       "      <th>InfluenceConsultants</th>\n",
       "      <th>InfluenceRecruitment</th>\n",
       "      <th>DifficultCommunication</th>\n",
       "    </tr>\n",
       "  </thead>\n",
       "  <tbody>\n",
       "    <tr>\n",
       "      <th>2</th>\n",
       "      <td>9.0</td>\n",
       "      <td>4</td>\n",
       "      <td>4</td>\n",
       "      <td>4</td>\n",
       "      <td>4</td>\n",
       "      <td>4</td>\n",
       "      <td>4</td>\n",
       "      <td>4</td>\n",
       "      <td>4</td>\n",
       "      <td>1</td>\n",
       "    </tr>\n",
       "    <tr>\n",
       "      <th>7</th>\n",
       "      <td>7.0</td>\n",
       "      <td>2</td>\n",
       "      <td>3</td>\n",
       "      <td>4</td>\n",
       "      <td>3</td>\n",
       "      <td>2</td>\n",
       "      <td>3</td>\n",
       "      <td>2</td>\n",
       "      <td>3</td>\n",
       "      <td>2</td>\n",
       "    </tr>\n",
       "    <tr>\n",
       "      <th>8</th>\n",
       "      <td>6.0</td>\n",
       "      <td>2</td>\n",
       "      <td>2</td>\n",
       "      <td>4</td>\n",
       "      <td>0</td>\n",
       "      <td>2</td>\n",
       "      <td>2</td>\n",
       "      <td>4</td>\n",
       "      <td>2</td>\n",
       "      <td>1</td>\n",
       "    </tr>\n",
       "    <tr>\n",
       "      <th>13</th>\n",
       "      <td>6.0</td>\n",
       "      <td>4</td>\n",
       "      <td>1</td>\n",
       "      <td>1</td>\n",
       "      <td>0</td>\n",
       "      <td>1</td>\n",
       "      <td>1</td>\n",
       "      <td>4</td>\n",
       "      <td>0</td>\n",
       "      <td>1</td>\n",
       "    </tr>\n",
       "    <tr>\n",
       "      <th>14</th>\n",
       "      <td>8.0</td>\n",
       "      <td>3</td>\n",
       "      <td>3</td>\n",
       "      <td>2</td>\n",
       "      <td>2</td>\n",
       "      <td>2</td>\n",
       "      <td>2</td>\n",
       "      <td>3</td>\n",
       "      <td>2</td>\n",
       "      <td>1</td>\n",
       "    </tr>\n",
       "  </tbody>\n",
       "</table>\n",
       "</div>"
      ],
      "text/plain": [
       "    JobSatisfaction  InfluenceHardware  InfluenceServers  InfluenceTechStack  \\\n",
       "2               9.0                  4                 4                   4   \n",
       "7               7.0                  2                 3                   4   \n",
       "8               6.0                  2                 2                   4   \n",
       "13              6.0                  4                 1                   1   \n",
       "14              8.0                  3                 3                   2   \n",
       "\n",
       "    InfluenceVizTools  InfluenceDatabase  InfluenceCloud  \\\n",
       "2                   4                  4               4   \n",
       "7                   3                  2               3   \n",
       "8                   0                  2               2   \n",
       "13                  0                  1               1   \n",
       "14                  2                  2               2   \n",
       "\n",
       "    InfluenceConsultants  InfluenceRecruitment  DifficultCommunication  \n",
       "2                      4                     4                       1  \n",
       "7                      2                     3                       2  \n",
       "8                      4                     2                       1  \n",
       "13                     4                     0                       1  \n",
       "14                     3                     2                       1  "
      ]
     },
     "execution_count": 68,
     "metadata": {},
     "output_type": "execute_result"
    }
   ],
   "source": [
    "#sanity check that the dataframe continue its transformation to numerical values only:\n",
    "df_dropna.head()"
   ]
  },
  {
   "cell_type": "markdown",
   "metadata": {},
   "source": [
    "Re-generate the model using the dataframe that has been transformed"
   ]
  },
  {
   "cell_type": "code",
   "execution_count": 69,
   "metadata": {},
   "outputs": [],
   "source": [
    "Xle = df_dropna[['InfluenceHardware', 'InfluenceServers', 'InfluenceTechStack','InfluenceVizTools','InfluenceDatabase', 'InfluenceCloud','InfluenceConsultants','InfluenceRecruitment', 'DifficultCommunication']]\n",
    "yle = df_dropna[['JobSatisfaction']]\n",
    "\n",
    "\n",
    "Xle_train, Xle_test, yle_train, yle_test = train_test_split(Xle, yle, test_size = 0.3, random_state = 42)\n",
    "\n",
    "lm_model = LinearRegression(normalize = True)  # Instantiate"
   ]
  },
  {
   "cell_type": "markdown",
   "metadata": {},
   "source": [
    "the dataframe already dropped any rows with missing values\n"
   ]
  },
  {
   "cell_type": "code",
   "execution_count": 70,
   "metadata": {},
   "outputs": [
    {
     "data": {
      "text/plain": [
       "(9375, 9)"
      ]
     },
     "execution_count": 70,
     "metadata": {},
     "output_type": "execute_result"
    }
   ],
   "source": [
    "Xle_train.shape"
   ]
  },
  {
   "cell_type": "code",
   "execution_count": 71,
   "metadata": {},
   "outputs": [
    {
     "data": {
      "text/plain": [
       "(4019, 9)"
      ]
     },
     "execution_count": 71,
     "metadata": {},
     "output_type": "execute_result"
    }
   ],
   "source": [
    "Xle_test.shape   #quick reference of what is included in this dataset"
   ]
  },
  {
   "cell_type": "code",
   "execution_count": 72,
   "metadata": {},
   "outputs": [
    {
     "data": {
      "text/html": [
       "<div>\n",
       "<style scoped>\n",
       "    .dataframe tbody tr th:only-of-type {\n",
       "        vertical-align: middle;\n",
       "    }\n",
       "\n",
       "    .dataframe tbody tr th {\n",
       "        vertical-align: top;\n",
       "    }\n",
       "\n",
       "    .dataframe thead th {\n",
       "        text-align: right;\n",
       "    }\n",
       "</style>\n",
       "<table border=\"1\" class=\"dataframe\">\n",
       "  <thead>\n",
       "    <tr style=\"text-align: right;\">\n",
       "      <th></th>\n",
       "      <th>JobSatisfaction</th>\n",
       "    </tr>\n",
       "  </thead>\n",
       "  <tbody>\n",
       "    <tr>\n",
       "      <th>47233</th>\n",
       "      <td>9.0</td>\n",
       "    </tr>\n",
       "    <tr>\n",
       "      <th>21257</th>\n",
       "      <td>10.0</td>\n",
       "    </tr>\n",
       "    <tr>\n",
       "      <th>21345</th>\n",
       "      <td>10.0</td>\n",
       "    </tr>\n",
       "    <tr>\n",
       "      <th>575</th>\n",
       "      <td>6.0</td>\n",
       "    </tr>\n",
       "    <tr>\n",
       "      <th>14862</th>\n",
       "      <td>9.0</td>\n",
       "    </tr>\n",
       "    <tr>\n",
       "      <th>20910</th>\n",
       "      <td>10.0</td>\n",
       "    </tr>\n",
       "    <tr>\n",
       "      <th>48685</th>\n",
       "      <td>9.0</td>\n",
       "    </tr>\n",
       "    <tr>\n",
       "      <th>42163</th>\n",
       "      <td>10.0</td>\n",
       "    </tr>\n",
       "    <tr>\n",
       "      <th>10584</th>\n",
       "      <td>10.0</td>\n",
       "    </tr>\n",
       "    <tr>\n",
       "      <th>28386</th>\n",
       "      <td>6.0</td>\n",
       "    </tr>\n",
       "  </tbody>\n",
       "</table>\n",
       "</div>"
      ],
      "text/plain": [
       "       JobSatisfaction\n",
       "47233              9.0\n",
       "21257             10.0\n",
       "21345             10.0\n",
       "575                6.0\n",
       "14862              9.0\n",
       "20910             10.0\n",
       "48685              9.0\n",
       "42163             10.0\n",
       "10584             10.0\n",
       "28386              6.0"
      ]
     },
     "execution_count": 72,
     "metadata": {},
     "output_type": "execute_result"
    }
   ],
   "source": [
    "#job satisfaction should be a single column with quantitative values:\n",
    "yle_train[:10]"
   ]
  },
  {
   "cell_type": "markdown",
   "metadata": {},
   "source": [
    "Fitting the model to a linear regression:"
   ]
  },
  {
   "cell_type": "code",
   "execution_count": 80,
   "metadata": {},
   "outputs": [
    {
     "data": {
      "text/plain": [
       "LinearRegression(copy_X=True, fit_intercept=True, n_jobs=1, normalize=True)"
      ]
     },
     "execution_count": 80,
     "metadata": {},
     "output_type": "execute_result"
    }
   ],
   "source": [
    "lm_model.fit(Xle_train, yle_train) #Fit"
   ]
  },
  {
   "cell_type": "code",
   "execution_count": 81,
   "metadata": {},
   "outputs": [],
   "source": [
    "#Predict using your model\n",
    "yle_test_preds = lm_model.predict(Xle_test)\n",
    "yle_train_preds = lm_model.predict(Xle_train)\n"
   ]
  },
  {
   "cell_type": "code",
   "execution_count": 75,
   "metadata": {},
   "outputs": [],
   "source": [
    "#Score using your model\n",
    "test_score = r2_score(yle_test, yle_test_preds)\n",
    "train_score = r2_score(yle_train, yle_train_preds)"
   ]
  },
  {
   "cell_type": "code",
   "execution_count": 76,
   "metadata": {},
   "outputs": [
    {
     "data": {
      "text/plain": [
       "'The r-squared score for the model using only quantitative variables was 0.0035604831248607915 on 4019 values.'"
      ]
     },
     "execution_count": 76,
     "metadata": {},
     "output_type": "execute_result"
    }
   ],
   "source": [
    "\"The r-squared score for the model using only quantitative variables was {} on {} values.\".format(r2_score(yle_test, yle_test_preds), len(yle_test))"
   ]
  },
  {
   "cell_type": "code",
   "execution_count": 77,
   "metadata": {},
   "outputs": [
    {
     "data": {
      "text/plain": [
       "0.0035604831248607915"
      ]
     },
     "execution_count": 77,
     "metadata": {},
     "output_type": "execute_result"
    }
   ],
   "source": [
    "test_score"
   ]
  },
  {
   "cell_type": "markdown",
   "metadata": {},
   "source": [
    "Conclusion: it is clear that the job satisfaction IS NOT impacted for the degree of influence in regards to the technical decisions that can influence within the organization.\n",
    "\n",
    "The heatmap shown below demonstrates the small level of correlation between this variables. Interestingly, the least correlated is the \"Diffiult Communication\", which does not have a strong correlation with any of the other variables."
   ]
  },
  {
   "cell_type": "code",
   "execution_count": 82,
   "metadata": {},
   "outputs": [
    {
     "data": {
      "image/png": "[encoded data removed]",
      "text/plain": [
       "<Figure size 432x288 with 2 Axes>"
      ]
     },
     "metadata": {
      "needs_background": "light"
     },
     "output_type": "display_data"
    }
   ],
   "source": [
    "sns.heatmap(df_dropna.corr(), annot = True, fmt = '.2f');"
   ]
  },
  {
   "cell_type": "markdown",
   "metadata": {},
   "source": [
    "Using the results from the previous heatmap, a model which actually show a relation between variables would be  between the influence in technical decisions with the influence in defining the database system or solution is as follow:"
   ]
  },
  {
   "cell_type": "code",
   "execution_count": 84,
   "metadata": {},
   "outputs": [
    {
     "data": {
      "text/plain": [
       "'The r-squared score for the model using only quantitative variables was 0.3189417779768251 on 4019 values.'"
      ]
     },
     "execution_count": 84,
     "metadata": {},
     "output_type": "execute_result"
    }
   ],
   "source": [
    "Xle = df_dropna[['InfluenceHardware', 'InfluenceServers', 'InfluenceTechStack','InfluenceVizTools', 'InfluenceCloud','InfluenceConsultants','InfluenceRecruitment', 'DifficultCommunication']]\n",
    "yle = df_dropna[['InfluenceDatabase']]\n",
    "\n",
    "\n",
    "Xle_train, Xle_test, yle_train, yle_test = train_test_split(Xle, yle, test_size = 0.3, random_state = 42)\n",
    "\n",
    "lm_model = LinearRegression(normalize = True)  # Instantiate\n",
    "lm_model.fit(Xle_train, yle_train) #Fit\n",
    "#Predict using your model\n",
    "yle_test_preds = lm_model.predict(Xle_test)\n",
    "yle_train_preds = lm_model.predict(Xle_train)\n",
    "#Score using your model\n",
    "test_score = r2_score(yle_test, yle_test_preds)\n",
    "train_score = r2_score(yle_train, yle_train_preds)\n",
    "\"The r-squared score for the model using only quantitative variables was {} on {} values.\".format(r2_score(yle_test, yle_test_preds), len(yle_test))\n"
   ]
  },
  {
   "cell_type": "markdown",
   "metadata": {},
   "source": [
    "This coefficient is higher than the previous, and as such it demonstrates that person who can influence the database will likely influence other technical decisions in the company. Nevertheless, this influencing capability is not correlated with his job satisfaction."
   ]
  }
 ],
 "metadata": {
  "kernelspec": {
   "display_name": "Python 3",
   "language": "python",
   "name": "python3"
  },
  "language_info": {
   "codemirror_mode": {
    "name": "ipython",
    "version": 3
   },
   "file_extension": ".py",
   "mimetype": "text/x-python",
   "name": "python",
   "nbconvert_exporter": "python",
   "pygments_lexer": "ipython3",
   "version": "3.7.0"
  }
 },
 "nbformat": 4,
 "nbformat_minor": 2
}
